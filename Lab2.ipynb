{
  "nbformat": 4,
  "nbformat_minor": 0,
  "metadata": {
    "colab": {
      "name": "Lab2.ipynb",
      "provenance": [],
      "collapsed_sections": [],
      "authorship_tag": "ABX9TyPmn94ejWtRYcSijBE6ftmH",
      "include_colab_link": true
    },
    "kernelspec": {
      "name": "python3",
      "display_name": "Python 3"
    },
    "language_info": {
      "name": "python"
    }
  },
  "cells": [
    {
      "cell_type": "markdown",
      "metadata": {
        "id": "view-in-github",
        "colab_type": "text"
      },
      "source": [
        "<a href=\"https://colab.research.google.com/github/fxlzaa/Main2/blob/main/Lab2.ipynb\" target=\"_parent\"><img src=\"https://colab.research.google.com/assets/colab-badge.svg\" alt=\"Open In Colab\"/></a>"
      ]
    },
    {
      "cell_type": "code",
      "metadata": {
        "id": "JSpzS6PbJdzl"
      },
      "source": [
        "print(\"Part 1 // Q2\")\n",
        "print(\"----------------------------------------------------------------------\")\n",
        "number1 = input(\"Enter number :\")\n",
        "print(\"Number is:\"+number1)\n",
        "\n",
        "number2 = input(\"Enter number :\")\n",
        "print(\"Number is:\"+number2)\n",
        "\n",
        "if number1>number2 :\n",
        "  print(number1+ \" is bigger than \" +number2)\n",
        "else :\n",
        "    print(number2+ \" is bigger than \" +number1)\n",
        "\n",
        "def findBigger(number1,number2,):\n",
        "  if number1>number2:\n",
        "    return number1\n",
        "  else:\n",
        "    return number2\n",
        "\n",
        "findBigger(number1,number2)\n",
        "\n",
        "\n",
        "\n",
        "\n",
        "\n"
      ],
      "execution_count": null,
      "outputs": []
    },
    {
      "cell_type": "code",
      "metadata": {
        "colab": {
          "base_uri": "https://localhost:8080/"
        },
        "id": "Hop05oIvXgn2",
        "outputId": "73fadd99-2dbe-47e3-a8b1-87fdc286204a"
      },
      "source": [
        "print(\"Part 1 // Q3\")\n",
        "print(\"----------------------------------------------------------------------\")\n",
        "\n",
        "name = input(\"Enter name :\")\n",
        "print(\"Name :\"+name)\n",
        "\n",
        "VOWEL =\"aeiouAEIOU\"\n",
        "\n",
        "def countVowel(name1):\n",
        "  vw=0\n",
        "  for j in name1:\n",
        "    print(j)\n",
        "    if j in VOWEL:\n",
        "      vw=vw+1\n",
        "      print(vw)\n",
        "    \n",
        "    ratio = vw/len(name1)\n",
        "    print(ratio)\n",
        "    return ratio\n",
        "\n",
        "countVowel(name)"
      ],
      "execution_count": null,
      "outputs": [
        {
          "output_type": "stream",
          "text": [
            "Part 1 // Q3\n",
            "----------------------------------------------------------------------\n",
            "Enter name :aqe\n",
            "Name :aqe\n",
            "a\n",
            "1\n",
            "0.3333333333333333\n"
          ],
          "name": "stdout"
        },
        {
          "output_type": "execute_result",
          "data": {
            "text/plain": [
              "0.3333333333333333"
            ]
          },
          "metadata": {
            "tags": []
          },
          "execution_count": 48
        }
      ]
    },
    {
      "cell_type": "code",
      "metadata": {
        "colab": {
          "base_uri": "https://localhost:8080/"
        },
        "id": "qrezn0PWaArQ",
        "outputId": "f3c9aa0e-00d3-4f23-9d36-a5d33bc99ce0"
      },
      "source": [
        "print(\"Part 2\")\n",
        "print(\"----------------------------------------------------------------------\")\n",
        "\n",
        "list1=['filza','hani','hadid']\n",
        "list2=[2000,543,98]\n",
        "\n",
        "def simpleprint(mylist):\n",
        "   print (mylist) \n",
        "\n",
        "def findminmax(mylist):\n",
        "  mini=min(mylist)\n",
        "  maxo=max(mylist)\n",
        "  return (mini,maxo)\n",
        "\n",
        "simpleprint(list1)\n",
        "mino,maxo=findminmax(list2)\n",
        "\n",
        "print(mino,maxo)\n",
        "\n"
      ],
      "execution_count": 88,
      "outputs": [
        {
          "output_type": "stream",
          "text": [
            "Part 2\n",
            "----------------------------------------------------------------------\n",
            "['filza', 'hani', 'hadid']\n",
            "98 2000\n"
          ],
          "name": "stdout"
        }
      ]
    },
    {
      "cell_type": "code",
      "metadata": {
        "id": "-LeJc-f8iudf"
      },
      "source": [
        ""
      ],
      "execution_count": null,
      "outputs": []
    }
  ]
}