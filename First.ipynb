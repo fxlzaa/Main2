{
  "nbformat": 4,
  "nbformat_minor": 0,
  "metadata": {
    "colab": {
      "name": "Untitled2.ipynb",
      "provenance": [],
      "authorship_tag": "ABX9TyMXakoJ4+FPCzgBA3UlIYP/",
      "include_colab_link": true
    },
    "kernelspec": {
      "name": "python3",
      "display_name": "Python 3"
    },
    "language_info": {
      "name": "python"
    }
  },
  "cells": [
    {
      "cell_type": "markdown",
      "metadata": {
        "id": "view-in-github",
        "colab_type": "text"
      },
      "source": [
        "<a href=\"https://colab.research.google.com/github/fxlzaa/Main2/blob/main/First.ipynb\" target=\"_parent\"><img src=\"https://colab.research.google.com/assets/colab-badge.svg\" alt=\"Open In Colab\"/></a>"
      ]
    },
    {
      "cell_type": "code",
      "metadata": {
        "colab": {
          "base_uri": "https://localhost:8080/"
        },
        "id": "1c_BdpHNDz2h",
        "outputId": "aaf9fdbf-ce1e-4679-c0fb-fa6dd290d936"
      },
      "source": [
        "# This program adds two numbers\n",
        "\n",
        "num1 = 1.5\n",
        "num2 = 6.3\n",
        "\n",
        "# Add two numbers\n",
        "sum = num1 + num2\n",
        "\n",
        "# Display the sum\n",
        "print('The sum of {0} and {1} is {2}'.format(num1, num2, sum))"
      ],
      "execution_count": 3,
      "outputs": [
        {
          "output_type": "stream",
          "text": [
            "The sum of 1.5 and 6.3 is 7.8\n"
          ],
          "name": "stdout"
        }
      ]
    },
    {
      "cell_type": "code",
      "metadata": {
        "colab": {
          "base_uri": "https://localhost:8080/"
        },
        "id": "2rsX8eCiF3y-",
        "outputId": "e5702cd2-1684-4548-d1ec-c986973dd6f9"
      },
      "source": [
        "# This program prints Hello, world!\n",
        "\n",
        "print('Hello, world!')"
      ],
      "execution_count": 2,
      "outputs": [
        {
          "output_type": "stream",
          "text": [
            "Hello, world!\n"
          ],
          "name": "stdout"
        }
      ]
    },
    {
      "cell_type": "code",
      "metadata": {
        "colab": {
          "base_uri": "https://localhost:8080/"
        },
        "id": "QFCQybFiGDtT",
        "outputId": "85165da6-fce6-4fd0-cc0f-79ae2813f270"
      },
      "source": [
        "# Python Program to calculate the square root\n",
        "\n",
        "# Note: change this value for a different result\n",
        "num = 8 \n",
        "\n",
        "# To take the input from the user\n",
        "#num = float(input('Enter a number: '))\n",
        "\n",
        "num_sqrt = num ** 0.5\n",
        "print('The square root of %0.3f is %0.3f'%(num ,num_sqrt))"
      ],
      "execution_count": 4,
      "outputs": [
        {
          "output_type": "stream",
          "text": [
            "The square root of 8.000 is 2.828\n"
          ],
          "name": "stdout"
        }
      ]
    },
    {
      "cell_type": "code",
      "metadata": {
        "colab": {
          "base_uri": "https://localhost:8080/"
        },
        "id": "mvDg_6reGW-v",
        "outputId": "130211ae-f7c9-4d0c-c101-78bc1f2951aa"
      },
      "source": [
        "# Python Program to find the area of triangle\n",
        "\n",
        "a = 5\n",
        "b = 6\n",
        "c = 7\n",
        "\n",
        "# Uncomment below to take inputs from the user\n",
        "# a = float(input('Enter first side: '))\n",
        "# b = float(input('Enter second side: '))\n",
        "# c = float(input('Enter third side: '))\n",
        "\n",
        "# calculate the semi-perimeter\n",
        "s = (a + b + c) / 2\n",
        "\n",
        "# calculate the area\n",
        "area = (s*(s-a)*(s-b)*(s-c)) ** 0.5\n",
        "print('The area of the triangle is %0.2f' %area)"
      ],
      "execution_count": 5,
      "outputs": [
        {
          "output_type": "stream",
          "text": [
            "The area of the triangle is 14.70\n"
          ],
          "name": "stdout"
        }
      ]
    },
    {
      "cell_type": "code",
      "metadata": {
        "colab": {
          "base_uri": "https://localhost:8080/"
        },
        "id": "-4-GQfhuGnkw",
        "outputId": "4485d2c7-09ce-4ed7-9195-e93ee36b7372"
      },
      "source": [
        "# Taking kilometers input from the user\n",
        "kilometers = float(input(\"Enter value in kilometers: \"))\n",
        "\n",
        "# conversion factor\n",
        "conv_fac = 0.621371\n",
        "\n",
        "# calculate miles\n",
        "miles = kilometers * conv_fac\n",
        "print('%0.2f kilometers is equal to %0.2f miles' %(kilometers,miles))"
      ],
      "execution_count": 6,
      "outputs": [
        {
          "output_type": "stream",
          "text": [
            "Enter value in kilometers: 5\n",
            "5.00 kilometers is equal to 3.11 miles\n"
          ],
          "name": "stdout"
        }
      ]
    }
  ]
}