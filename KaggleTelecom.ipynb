{
  "nbformat": 4,
  "nbformat_minor": 0,
  "metadata": {
    "colab": {
      "name": "KaggleTelecom.ipynb",
      "provenance": [],
      "collapsed_sections": [],
      "authorship_tag": "ABX9TyP+uofAsra6t435tbaLTRkk",
      "include_colab_link": true
    },
    "kernelspec": {
      "name": "python3",
      "display_name": "Python 3"
    },
    "language_info": {
      "name": "python"
    }
  },
  "cells": [
    {
      "cell_type": "markdown",
      "metadata": {
        "id": "view-in-github",
        "colab_type": "text"
      },
      "source": [
        "<a href=\"https://colab.research.google.com/github/fxlzaa/Main2/blob/main/KaggleTelecom.ipynb\" target=\"_parent\"><img src=\"https://colab.research.google.com/assets/colab-badge.svg\" alt=\"Open In Colab\"/></a>"
      ]
    },
    {
      "cell_type": "code",
      "metadata": {
        "colab": {
          "base_uri": "https://localhost:8080/",
          "height": 236
        },
        "id": "DvTzpAYH4KIX",
        "outputId": "12ab6707-5dd9-45ce-dd61-cd19d3288d5a"
      },
      "source": [
        "import numpy as np\n",
        "import pandas as pd\n",
        "import matplotlib.pyplot as plt\n",
        "import seaborn as sns\n",
        "from sklearn.model_selection import train_test_split\n",
        "from sklearn.linear_model import LinearRegression\n",
        "from sklearn.linear_model import LogisticRegression\n",
        "from sklearn.ensemble import RandomForestRegressor\n",
        "from sklearn.tree import DecisionTreeClassifier\n",
        "from sklearn import metrics\n",
        "#Import Library Pandas\n",
        "excel_file = 'telekom-100-all.xlsx'\n",
        "df = pd.read_excel(excel_file)\n",
        "df.head(5) #Print first five observations"
      ],
      "execution_count": 24,
      "outputs": [
        {
          "output_type": "execute_result",
          "data": {
            "text/html": [
              "<div>\n",
              "<style scoped>\n",
              "    .dataframe tbody tr th:only-of-type {\n",
              "        vertical-align: middle;\n",
              "    }\n",
              "\n",
              "    .dataframe tbody tr th {\n",
              "        vertical-align: top;\n",
              "    }\n",
              "\n",
              "    .dataframe thead th {\n",
              "        text-align: right;\n",
              "    }\n",
              "</style>\n",
              "<table border=\"1\" class=\"dataframe\">\n",
              "  <thead>\n",
              "    <tr style=\"text-align: right;\">\n",
              "      <th></th>\n",
              "      <th>State</th>\n",
              "      <th>Account_length</th>\n",
              "      <th>Area_code</th>\n",
              "      <th>International_plan</th>\n",
              "      <th>Voice_mail_plan</th>\n",
              "      <th>Number_vmail_messages</th>\n",
              "      <th>Total_day_minutes</th>\n",
              "      <th>Total_day_calls</th>\n",
              "      <th>Total_day_charge</th>\n",
              "      <th>Total _eve_minutes</th>\n",
              "      <th>Total_eve_calls</th>\n",
              "      <th>Total_eve_charge</th>\n",
              "      <th>Total_night_minutes</th>\n",
              "      <th>Total_night_calls</th>\n",
              "      <th>Total_night_charge</th>\n",
              "      <th>Total_intl_minutes</th>\n",
              "      <th>Total_intl_calls</th>\n",
              "      <th>Total_intl_charge</th>\n",
              "      <th>Customer_service_calls</th>\n",
              "      <th>Churn</th>\n",
              "    </tr>\n",
              "  </thead>\n",
              "  <tbody>\n",
              "    <tr>\n",
              "      <th>0</th>\n",
              "      <td>KS</td>\n",
              "      <td>128</td>\n",
              "      <td>415</td>\n",
              "      <td>No</td>\n",
              "      <td>Yes</td>\n",
              "      <td>25</td>\n",
              "      <td>265.1</td>\n",
              "      <td>110</td>\n",
              "      <td>45.07</td>\n",
              "      <td>197.4</td>\n",
              "      <td>99</td>\n",
              "      <td>16.78</td>\n",
              "      <td>244.7</td>\n",
              "      <td>91</td>\n",
              "      <td>11.01</td>\n",
              "      <td>10.0</td>\n",
              "      <td>3</td>\n",
              "      <td>2.70</td>\n",
              "      <td>1</td>\n",
              "      <td>False</td>\n",
              "    </tr>\n",
              "    <tr>\n",
              "      <th>1</th>\n",
              "      <td>OH</td>\n",
              "      <td>107</td>\n",
              "      <td>415</td>\n",
              "      <td>No</td>\n",
              "      <td>Yes</td>\n",
              "      <td>26</td>\n",
              "      <td>161.6</td>\n",
              "      <td>123</td>\n",
              "      <td>27.47</td>\n",
              "      <td>195.5</td>\n",
              "      <td>103</td>\n",
              "      <td>16.62</td>\n",
              "      <td>254.4</td>\n",
              "      <td>103</td>\n",
              "      <td>11.45</td>\n",
              "      <td>13.7</td>\n",
              "      <td>3</td>\n",
              "      <td>3.70</td>\n",
              "      <td>1</td>\n",
              "      <td>False</td>\n",
              "    </tr>\n",
              "    <tr>\n",
              "      <th>2</th>\n",
              "      <td>NJ</td>\n",
              "      <td>137</td>\n",
              "      <td>415</td>\n",
              "      <td>No</td>\n",
              "      <td>No</td>\n",
              "      <td>0</td>\n",
              "      <td>243.4</td>\n",
              "      <td>114</td>\n",
              "      <td>41.38</td>\n",
              "      <td>121.2</td>\n",
              "      <td>110</td>\n",
              "      <td>10.30</td>\n",
              "      <td>162.6</td>\n",
              "      <td>104</td>\n",
              "      <td>7.32</td>\n",
              "      <td>12.2</td>\n",
              "      <td>5</td>\n",
              "      <td>3.29</td>\n",
              "      <td>0</td>\n",
              "      <td>False</td>\n",
              "    </tr>\n",
              "    <tr>\n",
              "      <th>3</th>\n",
              "      <td>OH</td>\n",
              "      <td>84</td>\n",
              "      <td>408</td>\n",
              "      <td>Yes</td>\n",
              "      <td>No</td>\n",
              "      <td>0</td>\n",
              "      <td>299.4</td>\n",
              "      <td>71</td>\n",
              "      <td>50.90</td>\n",
              "      <td>61.9</td>\n",
              "      <td>88</td>\n",
              "      <td>5.26</td>\n",
              "      <td>196.9</td>\n",
              "      <td>89</td>\n",
              "      <td>8.86</td>\n",
              "      <td>6.6</td>\n",
              "      <td>7</td>\n",
              "      <td>1.78</td>\n",
              "      <td>2</td>\n",
              "      <td>False</td>\n",
              "    </tr>\n",
              "    <tr>\n",
              "      <th>4</th>\n",
              "      <td>OK</td>\n",
              "      <td>75</td>\n",
              "      <td>415</td>\n",
              "      <td>Yes</td>\n",
              "      <td>No</td>\n",
              "      <td>0</td>\n",
              "      <td>166.7</td>\n",
              "      <td>113</td>\n",
              "      <td>28.34</td>\n",
              "      <td>148.3</td>\n",
              "      <td>122</td>\n",
              "      <td>12.61</td>\n",
              "      <td>186.9</td>\n",
              "      <td>121</td>\n",
              "      <td>8.41</td>\n",
              "      <td>10.1</td>\n",
              "      <td>3</td>\n",
              "      <td>2.73</td>\n",
              "      <td>3</td>\n",
              "      <td>False</td>\n",
              "    </tr>\n",
              "  </tbody>\n",
              "</table>\n",
              "</div>"
            ],
            "text/plain": [
              "  State  Account_length  ...  Customer_service_calls  Churn\n",
              "0    KS             128  ...                       1  False\n",
              "1    OH             107  ...                       1  False\n",
              "2    NJ             137  ...                       0  False\n",
              "3    OH              84  ...                       2  False\n",
              "4    OK              75  ...                       3  False\n",
              "\n",
              "[5 rows x 20 columns]"
            ]
          },
          "metadata": {
            "tags": []
          },
          "execution_count": 24
        }
      ]
    },
    {
      "cell_type": "code",
      "metadata": {
        "colab": {
          "base_uri": "https://localhost:8080/"
        },
        "id": "y8KMl8cB7wtT",
        "outputId": "a5c6a67f-2191-4957-bd4f-c54a9b9c2e5c"
      },
      "source": [
        "df.dtypes"
      ],
      "execution_count": null,
      "outputs": [
        {
          "output_type": "execute_result",
          "data": {
            "text/plain": [
              "State                      object\n",
              "Account_length              int64\n",
              "Area_code                   int64\n",
              "International_plan           bool\n",
              "Voice_mail_plan              bool\n",
              "Number_vmail_messages       int64\n",
              "Total_day_minutes         float64\n",
              "Total_day_calls             int64\n",
              "Total_day_charge          float64\n",
              "Total _eve_minutes        float64\n",
              "Total_eve_calls             int64\n",
              "Total_eve_charge          float64\n",
              "Total_night_minutes       float64\n",
              "Total_night_calls           int64\n",
              "Total_night_charge        float64\n",
              "Total_intl_minutes        float64\n",
              "Total_intl_calls            int64\n",
              "Total_intl_charge         float64\n",
              "Customer_service_calls      int64\n",
              "Churn                        bool\n",
              "dtype: object"
            ]
          },
          "metadata": {
            "tags": []
          },
          "execution_count": 4
        }
      ]
    },
    {
      "cell_type": "code",
      "metadata": {
        "id": "OPMh0fh88dh0"
      },
      "source": [
        "df['Voice_mail_plan'] = df.Voice_mail_plan.astype(bool)\n",
        "df['International_plan'] = df.International_plan.astype(bool)"
      ],
      "execution_count": null,
      "outputs": []
    },
    {
      "cell_type": "code",
      "metadata": {
        "colab": {
          "base_uri": "https://localhost:8080/"
        },
        "id": "APGyKcziBTLA",
        "outputId": "bbd354ed-8b9c-4b30-8150-b64d74959047"
      },
      "source": [
        "df.info()"
      ],
      "execution_count": null,
      "outputs": [
        {
          "output_type": "stream",
          "text": [
            "<class 'pandas.core.frame.DataFrame'>\n",
            "RangeIndex: 2666 entries, 0 to 2665\n",
            "Data columns (total 20 columns):\n",
            " #   Column                  Non-Null Count  Dtype  \n",
            "---  ------                  --------------  -----  \n",
            " 0   State                   2666 non-null   object \n",
            " 1   Account length          2666 non-null   int64  \n",
            " 2   Area code               2666 non-null   int64  \n",
            " 3   International plan      2666 non-null   object \n",
            " 4   Voice mail plan         2666 non-null   object \n",
            " 5   Number vmail messages   2666 non-null   int64  \n",
            " 6   Total day minutes       2666 non-null   float64\n",
            " 7   Total day calls         2666 non-null   int64  \n",
            " 8   Total day charge        2666 non-null   float64\n",
            " 9   Total eve minutes       2666 non-null   float64\n",
            " 10  Total eve calls         2666 non-null   int64  \n",
            " 11  Total eve charge        2666 non-null   float64\n",
            " 12  Total night minutes     2666 non-null   float64\n",
            " 13  Total night calls       2666 non-null   int64  \n",
            " 14  Total night charge      2666 non-null   float64\n",
            " 15  Total intl minutes      2666 non-null   float64\n",
            " 16  Total intl calls        2666 non-null   int64  \n",
            " 17  Total intl charge       2666 non-null   float64\n",
            " 18  Customer service calls  2666 non-null   int64  \n",
            " 19  Churn                   2666 non-null   bool   \n",
            "dtypes: bool(1), float64(8), int64(8), object(3)\n",
            "memory usage: 398.5+ KB\n"
          ],
          "name": "stdout"
        }
      ]
    },
    {
      "cell_type": "code",
      "metadata": {
        "colab": {
          "base_uri": "https://localhost:8080/",
          "height": 341
        },
        "id": "G433PpuIBYnZ",
        "outputId": "3267d07a-d3db-4964-9d6d-82669054231d"
      },
      "source": [
        "df.describe()"
      ],
      "execution_count": null,
      "outputs": [
        {
          "output_type": "execute_result",
          "data": {
            "text/html": [
              "<div>\n",
              "<style scoped>\n",
              "    .dataframe tbody tr th:only-of-type {\n",
              "        vertical-align: middle;\n",
              "    }\n",
              "\n",
              "    .dataframe tbody tr th {\n",
              "        vertical-align: top;\n",
              "    }\n",
              "\n",
              "    .dataframe thead th {\n",
              "        text-align: right;\n",
              "    }\n",
              "</style>\n",
              "<table border=\"1\" class=\"dataframe\">\n",
              "  <thead>\n",
              "    <tr style=\"text-align: right;\">\n",
              "      <th></th>\n",
              "      <th>Account length</th>\n",
              "      <th>Area code</th>\n",
              "      <th>Number vmail messages</th>\n",
              "      <th>Total day minutes</th>\n",
              "      <th>Total day calls</th>\n",
              "      <th>Total day charge</th>\n",
              "      <th>Total eve minutes</th>\n",
              "      <th>Total eve calls</th>\n",
              "      <th>Total eve charge</th>\n",
              "      <th>Total night minutes</th>\n",
              "      <th>Total night calls</th>\n",
              "      <th>Total night charge</th>\n",
              "      <th>Total intl minutes</th>\n",
              "      <th>Total intl calls</th>\n",
              "      <th>Total intl charge</th>\n",
              "      <th>Customer service calls</th>\n",
              "    </tr>\n",
              "  </thead>\n",
              "  <tbody>\n",
              "    <tr>\n",
              "      <th>count</th>\n",
              "      <td>2666.000000</td>\n",
              "      <td>2666.000000</td>\n",
              "      <td>2666.000000</td>\n",
              "      <td>2666.00000</td>\n",
              "      <td>2666.000000</td>\n",
              "      <td>2666.000000</td>\n",
              "      <td>2666.000000</td>\n",
              "      <td>2666.000000</td>\n",
              "      <td>2666.000000</td>\n",
              "      <td>2666.000000</td>\n",
              "      <td>2666.000000</td>\n",
              "      <td>2666.000000</td>\n",
              "      <td>2666.000000</td>\n",
              "      <td>2666.000000</td>\n",
              "      <td>2666.000000</td>\n",
              "      <td>2666.000000</td>\n",
              "    </tr>\n",
              "    <tr>\n",
              "      <th>mean</th>\n",
              "      <td>100.620405</td>\n",
              "      <td>437.438860</td>\n",
              "      <td>8.021755</td>\n",
              "      <td>179.48162</td>\n",
              "      <td>100.310203</td>\n",
              "      <td>30.512404</td>\n",
              "      <td>200.386159</td>\n",
              "      <td>100.023631</td>\n",
              "      <td>17.033072</td>\n",
              "      <td>201.168942</td>\n",
              "      <td>100.106152</td>\n",
              "      <td>9.052689</td>\n",
              "      <td>10.237022</td>\n",
              "      <td>4.467367</td>\n",
              "      <td>2.764490</td>\n",
              "      <td>1.562641</td>\n",
              "    </tr>\n",
              "    <tr>\n",
              "      <th>std</th>\n",
              "      <td>39.563974</td>\n",
              "      <td>42.521018</td>\n",
              "      <td>13.612277</td>\n",
              "      <td>54.21035</td>\n",
              "      <td>19.988162</td>\n",
              "      <td>9.215733</td>\n",
              "      <td>50.951515</td>\n",
              "      <td>20.161445</td>\n",
              "      <td>4.330864</td>\n",
              "      <td>50.780323</td>\n",
              "      <td>19.418459</td>\n",
              "      <td>2.285120</td>\n",
              "      <td>2.788349</td>\n",
              "      <td>2.456195</td>\n",
              "      <td>0.752812</td>\n",
              "      <td>1.311236</td>\n",
              "    </tr>\n",
              "    <tr>\n",
              "      <th>min</th>\n",
              "      <td>1.000000</td>\n",
              "      <td>408.000000</td>\n",
              "      <td>0.000000</td>\n",
              "      <td>0.00000</td>\n",
              "      <td>0.000000</td>\n",
              "      <td>0.000000</td>\n",
              "      <td>0.000000</td>\n",
              "      <td>0.000000</td>\n",
              "      <td>0.000000</td>\n",
              "      <td>43.700000</td>\n",
              "      <td>33.000000</td>\n",
              "      <td>1.970000</td>\n",
              "      <td>0.000000</td>\n",
              "      <td>0.000000</td>\n",
              "      <td>0.000000</td>\n",
              "      <td>0.000000</td>\n",
              "    </tr>\n",
              "    <tr>\n",
              "      <th>25%</th>\n",
              "      <td>73.000000</td>\n",
              "      <td>408.000000</td>\n",
              "      <td>0.000000</td>\n",
              "      <td>143.40000</td>\n",
              "      <td>87.000000</td>\n",
              "      <td>24.380000</td>\n",
              "      <td>165.300000</td>\n",
              "      <td>87.000000</td>\n",
              "      <td>14.050000</td>\n",
              "      <td>166.925000</td>\n",
              "      <td>87.000000</td>\n",
              "      <td>7.512500</td>\n",
              "      <td>8.500000</td>\n",
              "      <td>3.000000</td>\n",
              "      <td>2.300000</td>\n",
              "      <td>1.000000</td>\n",
              "    </tr>\n",
              "    <tr>\n",
              "      <th>50%</th>\n",
              "      <td>100.000000</td>\n",
              "      <td>415.000000</td>\n",
              "      <td>0.000000</td>\n",
              "      <td>179.95000</td>\n",
              "      <td>101.000000</td>\n",
              "      <td>30.590000</td>\n",
              "      <td>200.900000</td>\n",
              "      <td>100.000000</td>\n",
              "      <td>17.080000</td>\n",
              "      <td>201.150000</td>\n",
              "      <td>100.000000</td>\n",
              "      <td>9.050000</td>\n",
              "      <td>10.200000</td>\n",
              "      <td>4.000000</td>\n",
              "      <td>2.750000</td>\n",
              "      <td>1.000000</td>\n",
              "    </tr>\n",
              "    <tr>\n",
              "      <th>75%</th>\n",
              "      <td>127.000000</td>\n",
              "      <td>510.000000</td>\n",
              "      <td>19.000000</td>\n",
              "      <td>215.90000</td>\n",
              "      <td>114.000000</td>\n",
              "      <td>36.700000</td>\n",
              "      <td>235.100000</td>\n",
              "      <td>114.000000</td>\n",
              "      <td>19.980000</td>\n",
              "      <td>236.475000</td>\n",
              "      <td>113.000000</td>\n",
              "      <td>10.640000</td>\n",
              "      <td>12.100000</td>\n",
              "      <td>6.000000</td>\n",
              "      <td>3.270000</td>\n",
              "      <td>2.000000</td>\n",
              "    </tr>\n",
              "    <tr>\n",
              "      <th>max</th>\n",
              "      <td>243.000000</td>\n",
              "      <td>510.000000</td>\n",
              "      <td>50.000000</td>\n",
              "      <td>350.80000</td>\n",
              "      <td>160.000000</td>\n",
              "      <td>59.640000</td>\n",
              "      <td>363.700000</td>\n",
              "      <td>170.000000</td>\n",
              "      <td>30.910000</td>\n",
              "      <td>395.000000</td>\n",
              "      <td>166.000000</td>\n",
              "      <td>17.770000</td>\n",
              "      <td>20.000000</td>\n",
              "      <td>20.000000</td>\n",
              "      <td>5.400000</td>\n",
              "      <td>9.000000</td>\n",
              "    </tr>\n",
              "  </tbody>\n",
              "</table>\n",
              "</div>"
            ],
            "text/plain": [
              "       Account length    Area code  ...  Total intl charge  Customer service calls\n",
              "count     2666.000000  2666.000000  ...        2666.000000             2666.000000\n",
              "mean       100.620405   437.438860  ...           2.764490                1.562641\n",
              "std         39.563974    42.521018  ...           0.752812                1.311236\n",
              "min          1.000000   408.000000  ...           0.000000                0.000000\n",
              "25%         73.000000   408.000000  ...           2.300000                1.000000\n",
              "50%        100.000000   415.000000  ...           2.750000                1.000000\n",
              "75%        127.000000   510.000000  ...           3.270000                2.000000\n",
              "max        243.000000   510.000000  ...           5.400000                9.000000\n",
              "\n",
              "[8 rows x 16 columns]"
            ]
          },
          "metadata": {
            "tags": []
          },
          "execution_count": 15
        }
      ]
    },
    {
      "cell_type": "code",
      "metadata": {
        "colab": {
          "base_uri": "https://localhost:8080/"
        },
        "id": "aWnQ25zRBbXz",
        "outputId": "a2512847-ab8e-4f9d-b55a-815af32e6012"
      },
      "source": [
        "df.shape"
      ],
      "execution_count": null,
      "outputs": [
        {
          "output_type": "execute_result",
          "data": {
            "text/plain": [
              "(2666, 20)"
            ]
          },
          "metadata": {
            "tags": []
          },
          "execution_count": 16
        }
      ]
    },
    {
      "cell_type": "code",
      "metadata": {
        "colab": {
          "base_uri": "https://localhost:8080/"
        },
        "id": "rvSE8p_lBhVh",
        "outputId": "19f23337-a2fe-4bbf-a7fc-0747af127aa4"
      },
      "source": [
        "df[\"Churn\"].value_counts()"
      ],
      "execution_count": null,
      "outputs": [
        {
          "output_type": "execute_result",
          "data": {
            "text/plain": [
              "False    2278\n",
              "True      388\n",
              "Name: Churn, dtype: int64"
            ]
          },
          "metadata": {
            "tags": []
          },
          "execution_count": 19
        }
      ]
    },
    {
      "cell_type": "code",
      "metadata": {
        "id": "a29dFIn4BkWJ",
        "colab": {
          "base_uri": "https://localhost:8080/"
        },
        "outputId": "3fc44dc7-fc70-4b6e-fea0-9a3323ecdcfe"
      },
      "source": [
        "df.columns"
      ],
      "execution_count": null,
      "outputs": [
        {
          "output_type": "execute_result",
          "data": {
            "text/plain": [
              "Index(['State', 'Account length', 'Area code', 'International plan',\n",
              "       'Voice mail plan', 'Number vmail messages', 'Total day minutes',\n",
              "       'Total day calls', 'Total day charge', 'Total eve minutes',\n",
              "       'Total eve calls', 'Total eve charge', 'Total night minutes',\n",
              "       'Total night calls', 'Total night charge', 'Total intl minutes',\n",
              "       'Total intl calls', 'Total intl charge', 'Customer service calls',\n",
              "       'Churn'],\n",
              "      dtype='object')"
            ]
          },
          "metadata": {
            "tags": []
          },
          "execution_count": 18
        }
      ]
    },
    {
      "cell_type": "code",
      "metadata": {
        "colab": {
          "base_uri": "https://localhost:8080/"
        },
        "id": "omTSPWm38HHA",
        "outputId": "9fbd012d-ce82-45c8-df29-3bf12684a4c9"
      },
      "source": [
        "#Area_code\n",
        "result= df.pivot_table(index='State', columns='Churn', values='Area_code') \n",
        "print (result)"
      ],
      "execution_count": null,
      "outputs": [
        {
          "output_type": "stream",
          "text": [
            "Churn       False       True \n",
            "State                        \n",
            "AK     440.142857  415.000000\n",
            "AL     431.430556  423.375000\n",
            "AR     443.318182  423.000000\n",
            "AZ     430.783333  460.750000\n",
            "CA     439.920000  445.888889\n",
            "CO     432.666667  410.333333\n",
            "CT     431.129032  421.750000\n",
            "DC     438.489796  412.200000\n",
            "DE     435.173077  467.777778\n",
            "FL     437.654545  486.250000\n",
            "GA     446.065217  437.000000\n",
            "HI     428.240000  412.666667\n",
            "IA     446.073171  478.333333\n",
            "ID     441.890625  425.555556\n",
            "IL     438.245283  432.600000\n",
            "IN     440.774194  434.555556\n",
            "KS     444.017544  434.769231\n",
            "KY     433.568627  426.000000\n",
            "LA     433.276596  438.750000\n",
            "MA     430.000000  429.727273\n",
            "MD     433.528302  434.470588\n",
            "ME     444.448980  456.692308\n",
            "MI     449.385965  417.875000\n",
            "MN     436.478261  458.866667\n",
            "MO     426.821429  454.714286\n",
            "MS     445.294118  426.071429\n",
            "MT     439.833333  426.071429\n",
            "NC     434.210526  429.090909\n",
            "ND     436.625000  428.500000\n",
            "NE     437.250000  413.600000\n",
            "NH     434.255319  421.666667\n",
            "NJ     436.540000  449.611111\n",
            "NM     431.785714  413.833333\n",
            "NV     440.788462  434.357143\n",
            "NY     435.808824  419.466667\n",
            "OH     432.705882  431.200000\n",
            "OK     434.903846  466.222222\n",
            "OR     440.686567  422.363636\n",
            "PA     438.783784  435.250000\n",
            "RI     438.084746  459.000000\n",
            "SC     438.108696  447.928571\n",
            "SD     433.076923  473.500000\n",
            "TN     433.333333  451.600000\n",
            "TX     428.629630  445.500000\n",
            "UT     445.935484  433.300000\n",
            "VA     433.875000  431.200000\n",
            "VT     441.153846  425.125000\n",
            "WA     438.153846  432.857143\n",
            "WI     437.014085  454.714286\n",
            "WV     441.322917  471.300000\n",
            "WY     434.205882  457.222222\n"
          ],
          "name": "stdout"
        }
      ]
    },
    {
      "cell_type": "code",
      "metadata": {
        "colab": {
          "base_uri": "https://localhost:8080/"
        },
        "id": "Hn7zPrF5_mH3",
        "outputId": "a9c3df4b-c8a4-4b9b-cfad-ea313eb1783e"
      },
      "source": [
        "#Number_vmail_messages\t\n",
        "result= df.pivot_table(index='State', columns='Churn', values='Number_vmail_messages') \n",
        "print (result)"
      ],
      "execution_count": null,
      "outputs": [
        {
          "output_type": "stream",
          "text": [
            "Churn      False      True \n",
            "State                      \n",
            "AK      9.612245   0.000000\n",
            "AL      7.569444   3.625000\n",
            "AR      8.340909   2.636364\n",
            "AZ     10.100000   0.000000\n",
            "CA     10.280000   5.444444\n",
            "CO      9.157895   3.333333\n",
            "CT     10.225806   3.083333\n",
            "DC     10.734694   0.000000\n",
            "DE      7.500000   3.888889\n",
            "FL      9.363636  10.125000\n",
            "GA     10.913043   4.875000\n",
            "HI      8.340000   0.000000\n",
            "IA      8.365854   0.000000\n",
            "ID     10.750000   6.444444\n",
            "IL      7.169811   9.600000\n",
            "IN      9.435484   0.000000\n",
            "KS      8.140351   5.307692\n",
            "KY      7.000000   7.000000\n",
            "LA      8.000000   6.750000\n",
            "MA      8.648148   4.272727\n",
            "MD      9.207547   4.882353\n",
            "ME      7.530612   9.307692\n",
            "MI      9.877193   3.375000\n",
            "MN      8.869565   5.466667\n",
            "MO      8.928571   0.000000\n",
            "MS     10.392157   6.000000\n",
            "MT      9.592593   8.357143\n",
            "NC      9.052632   9.272727\n",
            "ND     10.035714  11.833333\n",
            "NE      9.321429   0.000000\n",
            "NH      8.489362   7.111111\n",
            "NJ      9.320000   8.833333\n",
            "NM      5.821429  12.333333\n",
            "NV      6.903846   6.428571\n",
            "NY      7.000000   2.200000\n",
            "OH     11.338235   2.400000\n",
            "OK      9.615385   3.111111\n",
            "OR      6.343284   5.181818\n",
            "PA      8.027027   5.000000\n",
            "RI      8.067797   0.000000\n",
            "SC     10.717391   2.000000\n",
            "SD     10.500000  10.000000\n",
            "TN      6.416667  13.000000\n",
            "TX      7.537037   3.166667\n",
            "UT      8.580645   8.000000\n",
            "VA      6.944444   8.400000\n",
            "VT      6.723077   5.125000\n",
            "WA      5.153846   2.357143\n",
            "WI      8.704225   4.000000\n",
            "WV      8.864583   7.400000\n",
            "WY      7.000000   2.888889\n"
          ],
          "name": "stdout"
        }
      ]
    },
    {
      "cell_type": "code",
      "metadata": {
        "colab": {
          "base_uri": "https://localhost:8080/"
        },
        "id": "w1V9c3SABJ6U",
        "outputId": "f721489b-355f-400e-ddf2-0e7726913f79"
      },
      "source": [
        "#Total day minutes\n",
        "result= df.pivot_table(index='State', columns='Churn', values='Total_day_minutes') \n",
        "print (result)"
      ],
      "execution_count": null,
      "outputs": [
        {
          "output_type": "stream",
          "text": [
            "Churn       False       True \n",
            "State                        \n",
            "AK     179.516327  159.900000\n",
            "AL     183.825000  205.675000\n",
            "AR     175.477273  178.672727\n",
            "AZ     169.700000  200.175000\n",
            "CA     181.132000  190.322222\n",
            "CO     172.515789  217.955556\n",
            "CT     163.851613  233.466667\n",
            "DC     169.622449  188.600000\n",
            "DE     173.242308  182.333333\n",
            "FL     177.338182  194.625000\n",
            "GA     178.560870  222.200000\n",
            "HI     172.348000  236.200000\n",
            "IA     172.568293  246.566667\n",
            "ID     177.485938  186.677778\n",
            "IL     171.698113  193.660000\n",
            "IN     195.816129  201.411111\n",
            "KS     185.547368  217.900000\n",
            "KY     170.688235  193.300000\n",
            "LA     179.723404  162.550000\n",
            "MA     170.946296  225.054545\n",
            "MD     186.652830  230.200000\n",
            "ME     182.769388  194.661538\n",
            "MI     175.801754  197.662500\n",
            "MN     177.937681  208.273333\n",
            "MO     165.042857  214.214286\n",
            "MS     172.786275  196.664286\n",
            "MT     172.737037  178.907143\n",
            "NC     182.389474  199.427273\n",
            "ND     185.605357  203.516667\n",
            "NE     172.608929  231.860000\n",
            "NH     175.117021  188.877778\n",
            "NJ     183.532000  231.483333\n",
            "NM     169.783929  186.783333\n",
            "NV     165.923077  215.435714\n",
            "NY     170.202941  197.380000\n",
            "OH     175.677941  234.930000\n",
            "OK     174.803846  209.411111\n",
            "OR     166.371642  236.390909\n",
            "PA     187.508108  192.387500\n",
            "RI     164.216949  199.550000\n",
            "SC     152.100000  213.564286\n",
            "SD     187.982692  200.787500\n",
            "TN     172.329167  208.820000\n",
            "TX     169.875926  216.438889\n",
            "UT     180.277419  203.980000\n",
            "VA     176.845833  182.980000\n",
            "VT     178.420000  211.375000\n",
            "WA     169.042308  214.771429\n",
            "WI     175.636620  214.571429\n",
            "WV     173.207292  181.090000\n",
            "WY     172.536765  237.844444\n"
          ],
          "name": "stdout"
        }
      ]
    },
    {
      "cell_type": "code",
      "metadata": {
        "colab": {
          "base_uri": "https://localhost:8080/"
        },
        "id": "hXPM-K8MCdmM",
        "outputId": "729993b4-bcd4-4e81-833a-ee98bb49ec39"
      },
      "source": [
        "#Total day calls\n",
        "result= df.pivot_table(index='State', columns='Churn', values='Total_day_calls') \n",
        "print (result)"
      ],
      "execution_count": null,
      "outputs": [
        {
          "output_type": "stream",
          "text": [
            "Churn       False       True \n",
            "State                        \n",
            "AK      95.591837   90.000000\n",
            "AL      99.388889   96.500000\n",
            "AR     101.909091  103.090909\n",
            "AZ      99.516667  109.000000\n",
            "CA     106.240000   99.666667\n",
            "CO      96.228070   88.111111\n",
            "CT      96.870968  106.500000\n",
            "DC      99.387755  107.800000\n",
            "DE     100.307692   89.000000\n",
            "FL     101.781818   95.625000\n",
            "GA     103.173913  102.375000\n",
            "HI     102.380000  110.000000\n",
            "IA     100.951220  131.666667\n",
            "ID     106.140625  106.777778\n",
            "IL     100.245283  117.000000\n",
            "IN     105.145161  120.222222\n",
            "KS     100.192982  104.692308\n",
            "KY     100.490196   99.375000\n",
            "LA     103.446809  104.250000\n",
            "MA     102.685185  100.363636\n",
            "MD      99.830189   97.882353\n",
            "ME      98.979592  101.461538\n",
            "MI      99.859649  106.000000\n",
            "MN      98.913043  100.066667\n",
            "MO     100.232143   97.571429\n",
            "MS      97.509804  112.357143\n",
            "MT      96.925926   88.642857\n",
            "NC     101.035088  111.909091\n",
            "ND      98.767857  113.000000\n",
            "NE      97.285714   98.800000\n",
            "NH      98.106383  103.444444\n",
            "NJ      99.460000  101.888889\n",
            "NM     102.250000  102.166667\n",
            "NV     101.038462  102.857143\n",
            "NY      99.132353   94.200000\n",
            "OH      98.632353  106.400000\n",
            "OK     101.269231   94.444444\n",
            "OR      96.432836   91.454545\n",
            "PA      99.000000   97.000000\n",
            "RI     101.135593   93.500000\n",
            "SC      99.934783  110.785714\n",
            "SD      95.038462   93.375000\n",
            "TN     101.375000  102.200000\n",
            "TX     100.518519   98.388889\n",
            "UT     100.419355   89.900000\n",
            "VA     104.652778  115.600000\n",
            "VT     100.538462   98.625000\n",
            "WA     101.865385   98.714286\n",
            "WI      96.704225   96.428571\n",
            "WV     103.802083  103.600000\n",
            "WY     102.455882  100.444444\n"
          ],
          "name": "stdout"
        }
      ]
    },
    {
      "cell_type": "code",
      "metadata": {
        "colab": {
          "base_uri": "https://localhost:8080/"
        },
        "id": "8P4cNaUfDyed",
        "outputId": "2e69b535-17e8-41bd-f909-c5379afa3495"
      },
      "source": [
        "#Total day charge\n",
        "result= df.pivot_table(index='State', columns='Churn', values='Total_day_charge') \n",
        "print (result)"
      ],
      "execution_count": null,
      "outputs": [
        {
          "output_type": "stream",
          "text": [
            "Churn      False      True \n",
            "State                      \n",
            "AK     30.518163  27.183333\n",
            "AL     31.250278  34.962500\n",
            "AR     29.831591  30.373636\n",
            "AZ     28.849333  34.030000\n",
            "CA     30.793200  32.353333\n",
            "CO     29.328246  37.054444\n",
            "CT     27.855484  39.688333\n",
            "DC     28.836735  32.062000\n",
            "DE     29.451923  30.998889\n",
            "FL     30.148182  33.087500\n",
            "GA     30.356087  37.775000\n",
            "HI     29.298600  40.153333\n",
            "IA     29.337805  41.916667\n",
            "ID     30.172969  31.736667\n",
            "IL     29.189623  32.924000\n",
            "IN     33.289355  34.241111\n",
            "KS     31.544035  37.042308\n",
            "KY     29.018039  32.861250\n",
            "LA     30.553830  27.632500\n",
            "MA     29.060741  38.260000\n",
            "MD     31.731509  39.135294\n",
            "ME     31.071837  33.093846\n",
            "MI     29.886140  33.603750\n",
            "MN     30.249855  35.408000\n",
            "MO     28.058393  36.418571\n",
            "MS     29.374314  33.432857\n",
            "MT     29.365556  30.415000\n",
            "NC     31.006842  33.902727\n",
            "ND     31.553929  34.598333\n",
            "NE     29.343571  39.418000\n",
            "NH     29.770426  32.108889\n",
            "NJ     31.201200  39.351667\n",
            "NM     28.863214  31.753333\n",
            "NV     28.207308  36.625000\n",
            "NY     28.935735  33.554000\n",
            "OH     29.866176  39.939000\n",
            "OK     29.716538  35.601111\n",
            "OR     28.284179  40.187273\n",
            "PA     31.877027  32.706250\n",
            "RI     27.917797  33.923333\n",
            "SC     25.857609  36.307143\n",
            "SD     31.957308  34.135000\n",
            "TN     29.296250  35.502000\n",
            "TX     28.879630  36.795000\n",
            "UT     30.647742  34.676000\n",
            "VA     30.063889  31.108000\n",
            "VT     30.332154  35.936250\n",
            "WA     28.737500  36.512143\n",
            "WI     29.858310  36.477143\n",
            "WV     29.445937  30.786000\n",
            "WY     29.331471  40.432222\n"
          ],
          "name": "stdout"
        }
      ]
    },
    {
      "cell_type": "code",
      "metadata": {
        "colab": {
          "base_uri": "https://localhost:8080/"
        },
        "id": "0VXjK1VYFQWM",
        "outputId": "c0bbc5d4-5176-4800-c1b7-808648b7f2d6"
      },
      "source": [
        "#Total eve minutes\n",
        "result= df.pivot_table(index='State', columns='Churn', values='Total _eve_minutes') \n",
        "print (result)"
      ],
      "execution_count": null,
      "outputs": [
        {
          "output_type": "stream",
          "text": [
            "Churn       False       True \n",
            "State                        \n",
            "AK     185.481633  164.700000\n",
            "AL     191.261111  233.275000\n",
            "AR     194.122727  228.745455\n",
            "AZ     186.448333  207.250000\n",
            "CA     201.584000  191.711111\n",
            "CO     209.254386  191.877778\n",
            "CT     205.317742  196.133333\n",
            "DC     197.689796  182.380000\n",
            "DE     208.269231  208.122222\n",
            "FL     208.436364  222.925000\n",
            "GA     205.541304  196.087500\n",
            "HI     188.204000  243.666667\n",
            "IA     209.114634  169.300000\n",
            "ID     194.717187  193.855556\n",
            "IL     195.101887  214.780000\n",
            "IN     196.683871  243.033333\n",
            "KS     201.331579  207.692308\n",
            "KY     196.131373  196.962500\n",
            "LA     196.523404  213.050000\n",
            "MA     217.277778  201.836364\n",
            "MD     189.964151  215.070588\n",
            "ME     197.993878  210.015385\n",
            "MI     208.136842  208.300000\n",
            "MN     196.144928  214.006667\n",
            "MO     194.898214  242.085714\n",
            "MS     199.698039  201.142857\n",
            "MT     199.964815  207.550000\n",
            "NC     194.643860  243.436364\n",
            "ND     204.230357  240.866667\n",
            "NE     201.323214  223.140000\n",
            "NH     191.725532  231.755556\n",
            "NJ     193.678000  211.100000\n",
            "NM     208.883929  243.083333\n",
            "NV     199.875000  214.207143\n",
            "NY     198.411765  190.566667\n",
            "OH     204.148529  222.030000\n",
            "OK     192.694231  194.888889\n",
            "OR     196.444776  232.263636\n",
            "PA     185.348649  220.812500\n",
            "RI     211.698305  204.550000\n",
            "SC     203.097826  221.778571\n",
            "SD     204.515385  191.075000\n",
            "TN     212.662500  189.880000\n",
            "TX     194.914815  214.405556\n",
            "UT     193.201613  208.620000\n",
            "VA     201.243056  247.040000\n",
            "VT     202.275385  230.500000\n",
            "WA     198.675000  222.885714\n",
            "WI     196.861972  203.514286\n",
            "WV     186.753125  204.350000\n",
            "WY     205.897059  205.311111\n"
          ],
          "name": "stdout"
        }
      ]
    },
    {
      "cell_type": "code",
      "metadata": {
        "colab": {
          "base_uri": "https://localhost:8080/"
        },
        "id": "qUDUEizxHgep",
        "outputId": "16b6056d-9d6a-41f0-8407-598be7c019aa"
      },
      "source": [
        "#Total eve calls\n",
        "result= df.pivot_table(index='State', columns='Churn', values='Total_eve_calls') \n",
        "print (result)"
      ],
      "execution_count": null,
      "outputs": [
        {
          "output_type": "stream",
          "text": [
            "Churn       False       True \n",
            "State                        \n",
            "AK      96.387755   99.666667\n",
            "AL      99.250000   91.375000\n",
            "AR      94.840909  109.818182\n",
            "AZ     101.933333  109.500000\n",
            "CA     104.360000   99.555556\n",
            "CO      96.649123  107.777778\n",
            "CT      99.451613   97.416667\n",
            "DC     103.224490   89.800000\n",
            "DE      95.576923  107.666667\n",
            "FL     109.127273  107.500000\n",
            "GA     105.717391   93.375000\n",
            "HI      98.940000   97.333333\n",
            "IA      99.048780  106.333333\n",
            "ID     100.453125   97.222222\n",
            "IL      99.886792  110.600000\n",
            "IN      97.693548   99.666667\n",
            "KS     101.719298  100.692308\n",
            "KY      98.843137   94.375000\n",
            "LA      96.595745   97.000000\n",
            "MA      99.166667   93.636364\n",
            "MD      97.811321  100.941176\n",
            "ME     103.816327  107.538462\n",
            "MI     101.684211  103.062500\n",
            "MN     101.072464  104.266667\n",
            "MO     101.321429   98.857143\n",
            "MS      99.215686  103.785714\n",
            "MT      97.111111   99.071429\n",
            "NC     104.000000  103.636364\n",
            "ND     106.142857   99.166667\n",
            "NE     102.500000  115.800000\n",
            "NH      94.255319  103.888889\n",
            "NJ     103.060000  104.500000\n",
            "NM     104.232143   91.333333\n",
            "NV      97.038462   93.357143\n",
            "NY     100.794118   96.533333\n",
            "OH     100.897059  103.300000\n",
            "OK     103.769231  107.222222\n",
            "OR      97.940299  101.909091\n",
            "PA     102.054054   99.625000\n",
            "RI      96.372881   81.166667\n",
            "SC      98.956522  102.500000\n",
            "SD      99.038462   96.000000\n",
            "TN     105.250000   89.400000\n",
            "TX     103.222222   97.944444\n",
            "UT      96.951613  104.700000\n",
            "VA      99.902778  100.600000\n",
            "VT      97.892308   95.875000\n",
            "WA      94.730769   99.500000\n",
            "WI      99.154930  103.428571\n",
            "WV      97.666667  101.800000\n",
            "WY      99.764706   95.222222\n"
          ],
          "name": "stdout"
        }
      ]
    },
    {
      "cell_type": "code",
      "metadata": {
        "colab": {
          "base_uri": "https://localhost:8080/"
        },
        "id": "nu4mLAaHJQ1z",
        "outputId": "ea0f2668-5aec-4107-eaaf-3fd6c9bd9b02"
      },
      "source": [
        "#Total eve charge\n",
        "result= df.pivot_table(index='State', columns='Churn', values='Total_eve_charge') \n",
        "print (result)"
      ],
      "execution_count": null,
      "outputs": [
        {
          "output_type": "stream",
          "text": [
            "Churn      False      True \n",
            "State                      \n",
            "AK     15.766122  14.000000\n",
            "AL     16.257361  19.828750\n",
            "AR     16.500909  19.444545\n",
            "AZ     15.848500  17.615000\n",
            "CA     17.136000  16.295556\n",
            "CO     17.786316  16.308889\n",
            "CT     17.452419  16.672500\n",
            "DC     16.804286  15.506000\n",
            "DE     17.702885  17.692222\n",
            "FL     17.717455  18.947500\n",
            "GA     17.471304  16.667500\n",
            "HI     15.997000  20.710000\n",
            "IA     17.775122  14.390000\n",
            "ID     16.551406  16.475556\n",
            "IL     16.583585  18.256000\n",
            "IN     16.718065  20.657778\n",
            "KS     17.113158  17.653846\n",
            "KY     16.671569  16.740000\n",
            "LA     16.705106  18.110000\n",
            "MA     18.469259  17.156364\n",
            "MD     16.147170  18.281176\n",
            "ME     16.829796  17.851538\n",
            "MI     17.691754  17.705000\n",
            "MN     16.672464  18.191333\n",
            "MO     16.566607  20.577143\n",
            "MS     16.974706  17.097857\n",
            "MT     16.997593  17.641429\n",
            "NC     16.545614  20.691818\n",
            "ND     17.359821  20.473333\n",
            "NE     17.111964  18.966000\n",
            "NH     16.296809  19.698889\n",
            "NJ     16.462600  17.944444\n",
            "NM     17.755357  20.661667\n",
            "NV     16.989615  18.207143\n",
            "NY     16.865000  16.198000\n",
            "OH     17.353088  18.872000\n",
            "OK     16.379808  16.567778\n",
            "OR     16.698507  19.740909\n",
            "PA     15.754324  18.768750\n",
            "RI     17.994576  17.386667\n",
            "SC     17.263043  18.850000\n",
            "SD     17.383462  16.241250\n",
            "TN     18.076458  16.140000\n",
            "TX     16.567593  18.225556\n",
            "UT     16.422419  17.734000\n",
            "VA     17.106389  21.000000\n",
            "VT     17.194154  19.592500\n",
            "WA     16.887692  18.945714\n",
            "WI     16.733803  17.298571\n",
            "WV     15.873437  17.371000\n",
            "WY     17.501176  17.451111\n"
          ],
          "name": "stdout"
        }
      ]
    },
    {
      "cell_type": "code",
      "metadata": {
        "colab": {
          "base_uri": "https://localhost:8080/"
        },
        "id": "tKIL626GKb3t",
        "outputId": "9841f302-fb7e-4617-ac63-88645f533413"
      },
      "source": [
        "#Total night minutes\n",
        "result= df.pivot_table(index='State', columns='Churn', values='Total_night_minutes') \n",
        "print (result)"
      ],
      "execution_count": null,
      "outputs": [
        {
          "output_type": "stream",
          "text": [
            "Churn       False       True \n",
            "State                        \n",
            "AK     194.153061  162.500000\n",
            "AL     188.145833  179.537500\n",
            "AR     208.050000  195.072727\n",
            "AZ     191.803333  227.025000\n",
            "CA     191.240000  218.700000\n",
            "CO     186.992982  208.300000\n",
            "CT     206.343548  204.208333\n",
            "DC     202.414286  244.900000\n",
            "DE     203.355769  207.044444\n",
            "FL     196.529091  193.525000\n",
            "GA     194.691304  188.312500\n",
            "HI     203.116000  213.666667\n",
            "IA     187.856098  241.166667\n",
            "ID     203.471875  196.366667\n",
            "IL     198.326415  189.960000\n",
            "IN     209.645161  214.355556\n",
            "KS     204.577193  201.307692\n",
            "KY     195.054902  219.400000\n",
            "LA     202.180851  192.175000\n",
            "MA     205.885185  194.790909\n",
            "MD     199.426415  196.082353\n",
            "ME     195.934694  209.761538\n",
            "MI     192.598246  192.868750\n",
            "MN     211.749275  200.166667\n",
            "MO     205.869643  235.357143\n",
            "MS     195.231373  222.000000\n",
            "MT     197.111111  197.571429\n",
            "NC     197.082456  197.463636\n",
            "ND     196.244643  232.950000\n",
            "NE     203.957143  234.100000\n",
            "NH     211.580851  193.122222\n",
            "NJ     203.734000  213.744444\n",
            "NM     202.907143  174.866667\n",
            "NV     210.982692  199.964286\n",
            "NY     205.841176  191.606667\n",
            "OH     203.520588  211.090000\n",
            "OK     198.269231  189.311111\n",
            "OR     196.961194  217.981818\n",
            "PA     193.056757  208.850000\n",
            "RI     204.020339  204.366667\n",
            "SC     190.108696  211.657143\n",
            "SD     200.938462  203.725000\n",
            "TN     210.593750  208.820000\n",
            "TX     188.542593  215.527778\n",
            "UT     186.135484  217.700000\n",
            "VA     210.881944  242.940000\n",
            "VT     205.255385  221.075000\n",
            "WA     199.973077  200.314286\n",
            "WI     202.842254  162.585714\n",
            "WV     201.453125  197.240000\n",
            "WY     196.136765  222.066667\n"
          ],
          "name": "stdout"
        }
      ]
    },
    {
      "cell_type": "code",
      "metadata": {
        "colab": {
          "base_uri": "https://localhost:8080/"
        },
        "id": "Euy54d3GLhWm",
        "outputId": "079485ab-5b41-4187-f026-54ff68bd77a2"
      },
      "source": [
        "#Total night calls\n",
        "result= df.pivot_table(index='State', columns='Churn', values='Total_night_calls') \n",
        "print (result)"
      ],
      "execution_count": null,
      "outputs": [
        {
          "output_type": "stream",
          "text": [
            "Churn       False       True \n",
            "State                        \n",
            "AK      97.551020   94.000000\n",
            "AL      98.402778  100.500000\n",
            "AR      96.340909  109.909091\n",
            "AZ      99.833333  102.250000\n",
            "CA     100.920000   94.444444\n",
            "CO      98.298246   89.222222\n",
            "CT     101.774194  104.916667\n",
            "DC      98.163265   92.800000\n",
            "DE     102.442308   94.111111\n",
            "FL     100.109091  101.875000\n",
            "GA     104.630435  110.000000\n",
            "HI      98.820000  104.666667\n",
            "IA     100.707317   92.333333\n",
            "ID      99.546875  106.666667\n",
            "IL     100.301887   87.800000\n",
            "IN     102.806452   95.888889\n",
            "KS     100.508772   92.538462\n",
            "KY      99.823529  113.625000\n",
            "LA      99.872340   96.250000\n",
            "MA      94.592593  106.454545\n",
            "MD      98.471698   87.294118\n",
            "ME      98.938776   99.076923\n",
            "MI     102.684211  102.437500\n",
            "MN     103.739130   94.733333\n",
            "MO     100.785714  105.142857\n",
            "MS     100.235294  103.285714\n",
            "MT     101.537037  105.642857\n",
            "NC      99.631579  105.000000\n",
            "ND     102.071429  104.166667\n",
            "NE     100.892857  110.000000\n",
            "NH      95.297872  103.888889\n",
            "NJ     100.300000   99.722222\n",
            "NM      99.571429  113.000000\n",
            "NV     101.250000  101.785714\n",
            "NY      98.308824  104.400000\n",
            "OH     102.661765  107.300000\n",
            "OK     101.365385   98.777778\n",
            "OR     104.791045   89.818182\n",
            "PA      99.675676   95.375000\n",
            "RI     100.322034  100.500000\n",
            "SC     100.434783   99.357143\n",
            "SD      94.326923   92.000000\n",
            "TN      94.937500   87.800000\n",
            "TX     101.574074   99.444444\n",
            "UT     100.806452   99.500000\n",
            "VA      95.222222   90.600000\n",
            "VT     101.107692   98.000000\n",
            "WA     100.884615  110.428571\n",
            "WI      99.873239  106.428571\n",
            "WV     100.885417   97.500000\n",
            "WY     101.441176  106.444444\n"
          ],
          "name": "stdout"
        }
      ]
    },
    {
      "cell_type": "code",
      "metadata": {
        "colab": {
          "base_uri": "https://localhost:8080/"
        },
        "id": "EH8qcrkBmrcc",
        "outputId": "37e97f40-6bfe-441f-d177-f65742585191"
      },
      "source": [
        "#Total night charge\n",
        "result= df.pivot_table(index='State', columns='Churn', values='Total_night_charge') \n",
        "print (result)"
      ],
      "execution_count": null,
      "outputs": [
        {
          "output_type": "stream",
          "text": [
            "Churn     False      True \n",
            "State                     \n",
            "AK     8.736735   7.316667\n",
            "AL     8.466667   8.078750\n",
            "AR     9.362500   8.779091\n",
            "AZ     8.631500  10.217500\n",
            "CA     8.605600   9.842222\n",
            "CO     8.415263   9.374444\n",
            "CT     9.286129   9.189167\n",
            "DC     9.108571  11.022000\n",
            "DE     9.151154   9.316667\n",
            "FL     8.843818   8.707500\n",
            "GA     8.761087   8.473750\n",
            "HI     9.140000   9.613333\n",
            "IA     8.454390  10.853333\n",
            "ID     9.156406   8.836667\n",
            "IL     8.924717   8.548000\n",
            "IN     9.434032   9.645556\n",
            "KS     9.206316   9.058462\n",
            "KY     8.777255   9.873750\n",
            "LA     9.098085   8.647500\n",
            "MA     9.265556   8.765455\n",
            "MD     8.973774   8.822941\n",
            "ME     8.817143   9.439231\n",
            "MI     8.665965   8.680625\n",
            "MN     9.528551   9.008000\n",
            "MO     9.263929  10.591429\n",
            "MS     8.784902   9.990000\n",
            "MT     8.870185   8.889286\n",
            "NC     8.868596   8.886364\n",
            "ND     8.831429  10.481667\n",
            "NE     9.177857  10.536000\n",
            "NH     9.521277   8.690000\n",
            "NJ     9.167800   9.618889\n",
            "NM     9.130536   7.868333\n",
            "NV     9.494038   8.997857\n",
            "NY     9.263529   8.622667\n",
            "OH     9.158235   9.499000\n",
            "OK     8.921923   8.517778\n",
            "OR     8.863582   9.809091\n",
            "PA     8.688378   9.398750\n",
            "RI     9.180847   9.198333\n",
            "SC     8.555435   9.524286\n",
            "SD     9.042692   9.168750\n",
            "TN     9.477292   9.396000\n",
            "TX     8.484259   9.698889\n",
            "UT     8.375645   9.797000\n",
            "VA     9.490139  10.932000\n",
            "VT     9.236308   9.948750\n",
            "WA     8.998846   9.015000\n",
            "WI     9.128310   7.314286\n",
            "WV     9.065625   8.876000\n",
            "WY     8.826029   9.994444\n"
          ],
          "name": "stdout"
        }
      ]
    },
    {
      "cell_type": "code",
      "metadata": {
        "colab": {
          "base_uri": "https://localhost:8080/"
        },
        "id": "1tSZLBGMngtW",
        "outputId": "8b60a1da-01b6-4b35-844a-c2077bbb257a"
      },
      "source": [
        "#Total intl minutes\n",
        "result= df.pivot_table(index='State', columns='Churn', values='Total_intl_minutes') \n",
        "print (result)"
      ],
      "execution_count": null,
      "outputs": [
        {
          "output_type": "stream",
          "text": [
            "Churn      False      True \n",
            "State                      \n",
            "AK      9.997959  10.366667\n",
            "AL     10.100000  12.025000\n",
            "AR     10.365909  10.400000\n",
            "AZ     10.670000  10.050000\n",
            "CA      9.348000  11.311111\n",
            "CO      9.947368   9.388889\n",
            "CT      9.858065  11.041667\n",
            "DC     10.597959  10.680000\n",
            "DE     10.313462  10.122222\n",
            "FL      9.901818  11.050000\n",
            "GA     10.113043  11.212500\n",
            "HI     10.030000  10.500000\n",
            "IA      9.751220   8.600000\n",
            "ID     10.342187  11.633333\n",
            "IL     10.137736  12.420000\n",
            "IN     10.004839   9.944444\n",
            "KS     10.664912  11.638462\n",
            "KY     10.652941  10.662500\n",
            "LA      9.248936  10.300000\n",
            "MA      9.716667  10.618182\n",
            "MD     10.741509  11.400000\n",
            "ME      9.844898  10.553846\n",
            "MI     10.254386  11.750000\n",
            "MN     10.259420  11.306667\n",
            "MO     10.219643   9.242857\n",
            "MS     10.815686  10.207143\n",
            "MT     10.548148  10.892857\n",
            "NC      9.675439  11.427273\n",
            "ND      9.687500   9.366667\n",
            "NE     10.339286  11.680000\n",
            "NH     10.170213   9.866667\n",
            "NJ     10.814000  10.794444\n",
            "NM     10.158929  12.050000\n",
            "NV     10.161538   9.578571\n",
            "NY      9.660294  11.460000\n",
            "OH     10.308824  10.220000\n",
            "OK     10.594231   9.755556\n",
            "OR     10.486567   9.227273\n",
            "PA     10.424324  10.800000\n",
            "RI      9.762712  11.216667\n",
            "SC      9.597826  10.950000\n",
            "SD     10.251923   8.837500\n",
            "TN     10.166667  11.400000\n",
            "TX     10.407407  11.011111\n",
            "UT     10.159677  10.680000\n",
            "VA     10.525000  11.780000\n",
            "VT     10.160000  10.087500\n",
            "WA      9.517308  10.800000\n",
            "WI      9.840845   8.771429\n",
            "WV     10.035417  10.380000\n",
            "WY     10.313235  11.000000\n"
          ],
          "name": "stdout"
        }
      ]
    },
    {
      "cell_type": "code",
      "metadata": {
        "colab": {
          "base_uri": "https://localhost:8080/"
        },
        "id": "sYku7aLponVI",
        "outputId": "1150e623-8e80-4414-e349-2aa82a2e8bd5"
      },
      "source": [
        "#Total intl calls\n",
        "result= df.pivot_table(index='State', columns='Churn', values='Total_intl_calls') \n",
        "print (result)"
      ],
      "execution_count": null,
      "outputs": [
        {
          "output_type": "stream",
          "text": [
            "Churn     False     True \n",
            "State                    \n",
            "AK     4.979592  2.000000\n",
            "AL     4.611111  5.500000\n",
            "AR     4.727273  4.545455\n",
            "AZ     4.883333  4.500000\n",
            "CA     4.520000  4.222222\n",
            "CO     4.035088  4.555556\n",
            "CT     4.177419  3.750000\n",
            "DC     3.877551  4.200000\n",
            "DE     4.403846  3.666667\n",
            "FL     4.018182  3.750000\n",
            "GA     4.239130  3.000000\n",
            "HI     4.600000  5.000000\n",
            "IA     4.780488  4.000000\n",
            "ID     4.562500  4.555556\n",
            "IL     4.339623  4.400000\n",
            "IN     4.290323  4.222222\n",
            "KS     4.684211  3.692308\n",
            "KY     4.588235  2.625000\n",
            "LA     4.787234  3.000000\n",
            "MA     4.370370  4.818182\n",
            "MD     4.698113  3.588235\n",
            "ME     4.734694  4.076923\n",
            "MI     4.561404  4.500000\n",
            "MN     4.565217  3.266667\n",
            "MO     5.017857  3.571429\n",
            "MS     4.490196  4.642857\n",
            "MT     4.592593  4.357143\n",
            "NC     4.315789  3.090909\n",
            "ND     4.750000  6.500000\n",
            "NE     4.250000  3.800000\n",
            "NH     4.872340  3.888889\n",
            "NJ     4.820000  4.333333\n",
            "NM     5.017857  3.166667\n",
            "NV     4.596154  3.357143\n",
            "NY     4.661765  4.533333\n",
            "OH     4.294118  4.900000\n",
            "OK     4.461538  6.777778\n",
            "OR     4.432836  3.727273\n",
            "PA     4.135135  2.625000\n",
            "RI     4.728814  3.833333\n",
            "SC     4.152174  4.285714\n",
            "SD     4.519231  4.250000\n",
            "TN     4.500000  2.800000\n",
            "TX     4.592593  4.722222\n",
            "UT     4.612903  4.700000\n",
            "VA     4.722222  5.000000\n",
            "VT     4.323077  6.875000\n",
            "WA     4.615385  3.857143\n",
            "WI     4.239437  3.000000\n",
            "WV     4.427083  4.300000\n",
            "WY     5.029412  4.555556\n"
          ],
          "name": "stdout"
        }
      ]
    },
    {
      "cell_type": "code",
      "metadata": {
        "colab": {
          "base_uri": "https://localhost:8080/"
        },
        "id": "BufY5BbkpW36",
        "outputId": "000ea521-4ea9-4639-834a-c0e2b9ca8b98"
      },
      "source": [
        "#Total intl charge\n",
        "result= df.pivot_table(index='State', columns='Churn', values='Total_intl_charge') \n",
        "print (result)"
      ],
      "execution_count": null,
      "outputs": [
        {
          "output_type": "stream",
          "text": [
            "Churn     False     True \n",
            "State                    \n",
            "AK     2.699796  2.796667\n",
            "AL     2.727083  3.246250\n",
            "AR     2.799091  2.807273\n",
            "AZ     2.881000  2.715000\n",
            "CA     2.525600  3.054444\n",
            "CO     2.686140  2.536667\n",
            "CT     2.661452  2.981667\n",
            "DC     2.862653  2.884000\n",
            "DE     2.785962  2.734444\n",
            "FL     2.673818  2.983750\n",
            "GA     2.731304  3.027500\n",
            "HI     2.708600  2.836667\n",
            "IA     2.633659  2.323333\n",
            "ID     2.792500  3.142222\n",
            "IL     2.738113  3.356000\n",
            "IN     2.701613  2.684444\n",
            "KS     2.880000  3.142308\n",
            "KY     2.876275  2.880000\n",
            "LA     2.498085  2.780000\n",
            "MA     2.623704  2.868182\n",
            "MD     2.900566  3.077647\n",
            "ME     2.659388  2.850000\n",
            "MI     2.768947  3.172500\n",
            "MN     2.770725  3.052667\n",
            "MO     2.759643  2.497143\n",
            "MS     2.920784  2.757143\n",
            "MT     2.848148  2.942857\n",
            "NC     2.613158  3.084545\n",
            "ND     2.616429  2.531667\n",
            "NE     2.792500  3.154000\n",
            "NH     2.747021  2.663333\n",
            "NJ     2.920400  2.916111\n",
            "NM     2.744107  3.255000\n",
            "NV     2.744038  2.585000\n",
            "NY     2.608235  3.094667\n",
            "OH     2.783971  2.761000\n",
            "OK     2.861923  2.635556\n",
            "OR     2.832537  2.491818\n",
            "PA     2.814865  2.915000\n",
            "RI     2.635932  3.028333\n",
            "SC     2.592174  2.957143\n",
            "SD     2.767885  2.387500\n",
            "TN     2.745208  3.078000\n",
            "TX     2.810556  2.973889\n",
            "UT     2.743226  2.884000\n",
            "VA     2.842222  3.182000\n",
            "VT     2.743231  2.726250\n",
            "WA     2.570385  2.916429\n",
            "WI     2.657183  2.370000\n",
            "WV     2.710104  2.802000\n",
            "WY     2.785147  2.970000\n"
          ],
          "name": "stdout"
        }
      ]
    },
    {
      "cell_type": "code",
      "metadata": {
        "colab": {
          "base_uri": "https://localhost:8080/"
        },
        "id": "Oi4nLU_BqLf2",
        "outputId": "59e4157d-721f-47c9-85e9-d4b238451fa6"
      },
      "source": [
        "#Customer service calls\n",
        "result=df.pivot_table(index='State',columns='Churn',values='Customer_service_calls') \n",
        "print (result)"
      ],
      "execution_count": null,
      "outputs": [
        {
          "output_type": "stream",
          "text": [
            "Churn     False     True \n",
            "State                    \n",
            "AK     1.448980  3.333333\n",
            "AL     1.402778  3.000000\n",
            "AR     1.522727  3.818182\n",
            "AZ     1.550000  2.250000\n",
            "CA     1.360000  1.777778\n",
            "CO     1.666667  2.555556\n",
            "CT     1.532258  1.416667\n",
            "DC     1.306122  1.800000\n",
            "DE     1.653846  1.444444\n",
            "FL     1.490909  2.125000\n",
            "GA     1.869565  2.250000\n",
            "HI     1.460000  3.000000\n",
            "IA     1.487805  3.000000\n",
            "ID     1.484375  3.000000\n",
            "IL     1.132075  1.200000\n",
            "IN     1.483871  3.111111\n",
            "KS     1.315789  1.692308\n",
            "KY     1.509804  3.000000\n",
            "LA     1.510638  2.250000\n",
            "MA     1.185185  1.363636\n",
            "MD     1.528302  2.235294\n",
            "ME     1.673469  2.000000\n",
            "MI     1.403509  2.437500\n",
            "MN     1.289855  2.733333\n",
            "MO     1.410714  2.714286\n",
            "MS     1.529412  2.285714\n",
            "MT     1.388889  2.571429\n",
            "NC     1.421053  2.272727\n",
            "ND     1.446429  1.500000\n",
            "NE     1.482143  1.200000\n",
            "NH     1.234043  3.000000\n",
            "NJ     1.500000  2.166667\n",
            "NM     1.500000  2.500000\n",
            "NV     1.442308  2.142857\n",
            "NY     1.500000  2.666667\n",
            "OH     1.411765  1.000000\n",
            "OK     1.807692  1.666667\n",
            "OR     1.626866  2.363636\n",
            "PA     1.135135  1.875000\n",
            "RI     1.355932  2.000000\n",
            "SC     1.434783  2.071429\n",
            "SD     1.384615  1.500000\n",
            "TN     1.145833  3.000000\n",
            "TX     1.592593  1.666667\n",
            "UT     1.177419  2.600000\n",
            "VA     1.597222  1.600000\n",
            "VT     1.600000  2.875000\n",
            "WA     1.384615  2.071429\n",
            "WI     1.380282  1.857143\n",
            "WV     1.364583  2.800000\n",
            "WY     1.382353  1.888889\n"
          ],
          "name": "stdout"
        }
      ]
    },
    {
      "cell_type": "code",
      "metadata": {
        "colab": {
          "base_uri": "https://localhost:8080/",
          "height": 234
        },
        "id": "OlYW5t94cRBU",
        "outputId": "3eb9fbaa-37c1-4f68-8e8e-a1d567a46cee"
      },
      "source": [
        "#Sort Pandas DataFrame in an ascending order\n",
        "df.sort_values(by=['Area_code','Number_vmail_messages'], inplace=True)\n",
        "df.head(5)\n"
      ],
      "execution_count": null,
      "outputs": [
        {
          "output_type": "execute_result",
          "data": {
            "text/html": [
              "<div>\n",
              "<style scoped>\n",
              "    .dataframe tbody tr th:only-of-type {\n",
              "        vertical-align: middle;\n",
              "    }\n",
              "\n",
              "    .dataframe tbody tr th {\n",
              "        vertical-align: top;\n",
              "    }\n",
              "\n",
              "    .dataframe thead th {\n",
              "        text-align: right;\n",
              "    }\n",
              "</style>\n",
              "<table border=\"1\" class=\"dataframe\">\n",
              "  <thead>\n",
              "    <tr style=\"text-align: right;\">\n",
              "      <th></th>\n",
              "      <th>State</th>\n",
              "      <th>Account_length</th>\n",
              "      <th>Area_code</th>\n",
              "      <th>International_plan</th>\n",
              "      <th>Voice_mail_plan</th>\n",
              "      <th>Number_vmail_messages</th>\n",
              "      <th>Total_day_minutes</th>\n",
              "      <th>Total_day_calls</th>\n",
              "      <th>Total_day_charge</th>\n",
              "      <th>Total _eve_minutes</th>\n",
              "      <th>Total_eve_calls</th>\n",
              "      <th>Total_eve_charge</th>\n",
              "      <th>Total_night_minutes</th>\n",
              "      <th>Total_night_calls</th>\n",
              "      <th>Total_night_charge</th>\n",
              "      <th>Total_intl_minutes</th>\n",
              "      <th>Total_intl_calls</th>\n",
              "      <th>Total_intl_charge</th>\n",
              "      <th>Customer_service_calls</th>\n",
              "      <th>Churn</th>\n",
              "    </tr>\n",
              "  </thead>\n",
              "  <tbody>\n",
              "    <tr>\n",
              "      <th>3</th>\n",
              "      <td>OH</td>\n",
              "      <td>84</td>\n",
              "      <td>408</td>\n",
              "      <td>Yes</td>\n",
              "      <td>No</td>\n",
              "      <td>0</td>\n",
              "      <td>299.4</td>\n",
              "      <td>71</td>\n",
              "      <td>50.90</td>\n",
              "      <td>61.9</td>\n",
              "      <td>88</td>\n",
              "      <td>5.26</td>\n",
              "      <td>196.9</td>\n",
              "      <td>89</td>\n",
              "      <td>8.86</td>\n",
              "      <td>6.6</td>\n",
              "      <td>7</td>\n",
              "      <td>1.78</td>\n",
              "      <td>2</td>\n",
              "      <td>False</td>\n",
              "    </tr>\n",
              "    <tr>\n",
              "      <th>10</th>\n",
              "      <td>IA</td>\n",
              "      <td>168</td>\n",
              "      <td>408</td>\n",
              "      <td>No</td>\n",
              "      <td>No</td>\n",
              "      <td>0</td>\n",
              "      <td>128.8</td>\n",
              "      <td>96</td>\n",
              "      <td>21.90</td>\n",
              "      <td>104.9</td>\n",
              "      <td>71</td>\n",
              "      <td>8.92</td>\n",
              "      <td>141.1</td>\n",
              "      <td>128</td>\n",
              "      <td>6.35</td>\n",
              "      <td>11.2</td>\n",
              "      <td>2</td>\n",
              "      <td>3.02</td>\n",
              "      <td>1</td>\n",
              "      <td>False</td>\n",
              "    </tr>\n",
              "    <tr>\n",
              "      <th>18</th>\n",
              "      <td>CO</td>\n",
              "      <td>77</td>\n",
              "      <td>408</td>\n",
              "      <td>No</td>\n",
              "      <td>No</td>\n",
              "      <td>0</td>\n",
              "      <td>62.4</td>\n",
              "      <td>89</td>\n",
              "      <td>10.61</td>\n",
              "      <td>169.9</td>\n",
              "      <td>121</td>\n",
              "      <td>14.44</td>\n",
              "      <td>209.6</td>\n",
              "      <td>64</td>\n",
              "      <td>9.43</td>\n",
              "      <td>5.7</td>\n",
              "      <td>6</td>\n",
              "      <td>1.54</td>\n",
              "      <td>5</td>\n",
              "      <td>True</td>\n",
              "    </tr>\n",
              "    <tr>\n",
              "      <th>23</th>\n",
              "      <td>MT</td>\n",
              "      <td>54</td>\n",
              "      <td>408</td>\n",
              "      <td>No</td>\n",
              "      <td>No</td>\n",
              "      <td>0</td>\n",
              "      <td>134.3</td>\n",
              "      <td>73</td>\n",
              "      <td>22.83</td>\n",
              "      <td>155.5</td>\n",
              "      <td>100</td>\n",
              "      <td>13.22</td>\n",
              "      <td>102.1</td>\n",
              "      <td>68</td>\n",
              "      <td>4.59</td>\n",
              "      <td>14.7</td>\n",
              "      <td>4</td>\n",
              "      <td>3.97</td>\n",
              "      <td>3</td>\n",
              "      <td>False</td>\n",
              "    </tr>\n",
              "    <tr>\n",
              "      <th>27</th>\n",
              "      <td>LA</td>\n",
              "      <td>172</td>\n",
              "      <td>408</td>\n",
              "      <td>No</td>\n",
              "      <td>No</td>\n",
              "      <td>0</td>\n",
              "      <td>212.0</td>\n",
              "      <td>121</td>\n",
              "      <td>36.04</td>\n",
              "      <td>31.2</td>\n",
              "      <td>115</td>\n",
              "      <td>2.65</td>\n",
              "      <td>293.3</td>\n",
              "      <td>78</td>\n",
              "      <td>13.20</td>\n",
              "      <td>12.6</td>\n",
              "      <td>10</td>\n",
              "      <td>3.40</td>\n",
              "      <td>3</td>\n",
              "      <td>False</td>\n",
              "    </tr>\n",
              "  </tbody>\n",
              "</table>\n",
              "</div>"
            ],
            "text/plain": [
              "   State  Account_length  ...  Customer_service_calls  Churn\n",
              "3     OH              84  ...                       2  False\n",
              "10    IA             168  ...                       1  False\n",
              "18    CO              77  ...                       5   True\n",
              "23    MT              54  ...                       3  False\n",
              "27    LA             172  ...                       3  False\n",
              "\n",
              "[5 rows x 20 columns]"
            ]
          },
          "metadata": {
            "tags": []
          },
          "execution_count": 18
        }
      ]
    },
    {
      "cell_type": "code",
      "metadata": {
        "colab": {
          "base_uri": "https://localhost:8080/",
          "height": 234
        },
        "id": "Eu28yLRvgZFF",
        "outputId": "347205f2-fe2d-4898-e5fa-3d8c4a404671"
      },
      "source": [
        "#Sort Pandas DataFrame in an descending order\n",
        "df.sort_values(by=['Area_code','Number_vmail_messages'], inplace=True, ascending=False)\n",
        "df.head(5)\n"
      ],
      "execution_count": null,
      "outputs": [
        {
          "output_type": "execute_result",
          "data": {
            "text/html": [
              "<div>\n",
              "<style scoped>\n",
              "    .dataframe tbody tr th:only-of-type {\n",
              "        vertical-align: middle;\n",
              "    }\n",
              "\n",
              "    .dataframe tbody tr th {\n",
              "        vertical-align: top;\n",
              "    }\n",
              "\n",
              "    .dataframe thead th {\n",
              "        text-align: right;\n",
              "    }\n",
              "</style>\n",
              "<table border=\"1\" class=\"dataframe\">\n",
              "  <thead>\n",
              "    <tr style=\"text-align: right;\">\n",
              "      <th></th>\n",
              "      <th>State</th>\n",
              "      <th>Account_length</th>\n",
              "      <th>Area_code</th>\n",
              "      <th>International_plan</th>\n",
              "      <th>Voice_mail_plan</th>\n",
              "      <th>Number_vmail_messages</th>\n",
              "      <th>Total_day_minutes</th>\n",
              "      <th>Total_day_calls</th>\n",
              "      <th>Total_day_charge</th>\n",
              "      <th>Total _eve_minutes</th>\n",
              "      <th>Total_eve_calls</th>\n",
              "      <th>Total_eve_charge</th>\n",
              "      <th>Total_night_minutes</th>\n",
              "      <th>Total_night_calls</th>\n",
              "      <th>Total_night_charge</th>\n",
              "      <th>Total_intl_minutes</th>\n",
              "      <th>Total_intl_calls</th>\n",
              "      <th>Total_intl_charge</th>\n",
              "      <th>Customer_service_calls</th>\n",
              "      <th>Churn</th>\n",
              "    </tr>\n",
              "  </thead>\n",
              "  <tbody>\n",
              "    <tr>\n",
              "      <th>2188</th>\n",
              "      <td>WV</td>\n",
              "      <td>137</td>\n",
              "      <td>510</td>\n",
              "      <td>No</td>\n",
              "      <td>Yes</td>\n",
              "      <td>50</td>\n",
              "      <td>186.5</td>\n",
              "      <td>94</td>\n",
              "      <td>31.71</td>\n",
              "      <td>178.0</td>\n",
              "      <td>106</td>\n",
              "      <td>15.13</td>\n",
              "      <td>215.6</td>\n",
              "      <td>100</td>\n",
              "      <td>9.70</td>\n",
              "      <td>12.1</td>\n",
              "      <td>4</td>\n",
              "      <td>3.27</td>\n",
              "      <td>2</td>\n",
              "      <td>False</td>\n",
              "    </tr>\n",
              "    <tr>\n",
              "      <th>2996</th>\n",
              "      <td>AR</td>\n",
              "      <td>63</td>\n",
              "      <td>510</td>\n",
              "      <td>No</td>\n",
              "      <td>Yes</td>\n",
              "      <td>49</td>\n",
              "      <td>214.9</td>\n",
              "      <td>86</td>\n",
              "      <td>36.53</td>\n",
              "      <td>198.2</td>\n",
              "      <td>89</td>\n",
              "      <td>16.85</td>\n",
              "      <td>170.8</td>\n",
              "      <td>139</td>\n",
              "      <td>7.69</td>\n",
              "      <td>8.2</td>\n",
              "      <td>5</td>\n",
              "      <td>2.21</td>\n",
              "      <td>0</td>\n",
              "      <td>False</td>\n",
              "    </tr>\n",
              "    <tr>\n",
              "      <th>2716</th>\n",
              "      <td>MO</td>\n",
              "      <td>64</td>\n",
              "      <td>510</td>\n",
              "      <td>No</td>\n",
              "      <td>Yes</td>\n",
              "      <td>48</td>\n",
              "      <td>94.4</td>\n",
              "      <td>104</td>\n",
              "      <td>16.05</td>\n",
              "      <td>136.2</td>\n",
              "      <td>101</td>\n",
              "      <td>11.58</td>\n",
              "      <td>147.4</td>\n",
              "      <td>89</td>\n",
              "      <td>6.63</td>\n",
              "      <td>4.5</td>\n",
              "      <td>4</td>\n",
              "      <td>1.22</td>\n",
              "      <td>0</td>\n",
              "      <td>False</td>\n",
              "    </tr>\n",
              "    <tr>\n",
              "      <th>60</th>\n",
              "      <td>MN</td>\n",
              "      <td>162</td>\n",
              "      <td>510</td>\n",
              "      <td>No</td>\n",
              "      <td>Yes</td>\n",
              "      <td>46</td>\n",
              "      <td>224.9</td>\n",
              "      <td>97</td>\n",
              "      <td>38.23</td>\n",
              "      <td>188.2</td>\n",
              "      <td>84</td>\n",
              "      <td>16.00</td>\n",
              "      <td>254.6</td>\n",
              "      <td>61</td>\n",
              "      <td>11.46</td>\n",
              "      <td>12.1</td>\n",
              "      <td>2</td>\n",
              "      <td>3.27</td>\n",
              "      <td>0</td>\n",
              "      <td>False</td>\n",
              "    </tr>\n",
              "    <tr>\n",
              "      <th>480</th>\n",
              "      <td>OH</td>\n",
              "      <td>75</td>\n",
              "      <td>510</td>\n",
              "      <td>No</td>\n",
              "      <td>Yes</td>\n",
              "      <td>46</td>\n",
              "      <td>214.1</td>\n",
              "      <td>62</td>\n",
              "      <td>36.40</td>\n",
              "      <td>200.9</td>\n",
              "      <td>111</td>\n",
              "      <td>17.08</td>\n",
              "      <td>246.8</td>\n",
              "      <td>126</td>\n",
              "      <td>11.11</td>\n",
              "      <td>9.2</td>\n",
              "      <td>6</td>\n",
              "      <td>2.48</td>\n",
              "      <td>0</td>\n",
              "      <td>False</td>\n",
              "    </tr>\n",
              "  </tbody>\n",
              "</table>\n",
              "</div>"
            ],
            "text/plain": [
              "     State  Account_length  ...  Customer_service_calls  Churn\n",
              "2188    WV             137  ...                       2  False\n",
              "2996    AR              63  ...                       0  False\n",
              "2716    MO              64  ...                       0  False\n",
              "60      MN             162  ...                       0  False\n",
              "480     OH              75  ...                       0  False\n",
              "\n",
              "[5 rows x 20 columns]"
            ]
          },
          "metadata": {
            "tags": []
          },
          "execution_count": 19
        }
      ]
    },
    {
      "cell_type": "code",
      "metadata": {
        "id": "tf0icfAMvKR4",
        "colab": {
          "base_uri": "https://localhost:8080/"
        },
        "outputId": "72854519-a993-4075-903b-b62e2757515d"
      },
      "source": [
        "# checking for missing values\n",
        "df.isnull().sum()"
      ],
      "execution_count": 3,
      "outputs": [
        {
          "output_type": "execute_result",
          "data": {
            "text/plain": [
              "State                     0\n",
              "Account_length            0\n",
              "Area_code                 0\n",
              "International_plan        0\n",
              "Voice_mail_plan           0\n",
              "Number_vmail_messages     0\n",
              "Total_day_minutes         0\n",
              "Total_day_calls           0\n",
              "Total_day_charge          0\n",
              "Total _eve_minutes        0\n",
              "Total_eve_calls           0\n",
              "Total_eve_charge          0\n",
              "Total_night_minutes       0\n",
              "Total_night_calls         0\n",
              "Total_night_charge        0\n",
              "Total_intl_minutes        0\n",
              "Total_intl_calls          0\n",
              "Total_intl_charge         0\n",
              "Customer_service_calls    0\n",
              "Churn                     0\n",
              "dtype: int64"
            ]
          },
          "metadata": {
            "tags": []
          },
          "execution_count": 3
        }
      ]
    },
    {
      "cell_type": "code",
      "metadata": {
        "id": "2qEDMGX9O-Tq"
      },
      "source": [
        "def preprocess_image(df):\n",
        "    for label, content in df.items():\n",
        "        if pd.api.types.is_numeric_dtype(content):\n",
        "            if pd.isnull(content).sum():\n",
        "                df[label] = content.fillna(content.median())\n",
        "        if not pd.api.types.is_numeric_dtype(content):\n",
        "            df[label] = pd.Categorical(content).codes+1\n",
        "    return df"
      ],
      "execution_count": 7,
      "outputs": []
    },
    {
      "cell_type": "code",
      "metadata": {
        "colab": {
          "base_uri": "https://localhost:8080/",
          "height": 236
        },
        "id": "mVKk6FqlSi9t",
        "outputId": "8dc12b63-b2e4-436e-a30d-a743de42b2de"
      },
      "source": [
        "df = preprocess_image(df=df)\n",
        "df.head()"
      ],
      "execution_count": 8,
      "outputs": [
        {
          "output_type": "execute_result",
          "data": {
            "text/html": [
              "<div>\n",
              "<style scoped>\n",
              "    .dataframe tbody tr th:only-of-type {\n",
              "        vertical-align: middle;\n",
              "    }\n",
              "\n",
              "    .dataframe tbody tr th {\n",
              "        vertical-align: top;\n",
              "    }\n",
              "\n",
              "    .dataframe thead th {\n",
              "        text-align: right;\n",
              "    }\n",
              "</style>\n",
              "<table border=\"1\" class=\"dataframe\">\n",
              "  <thead>\n",
              "    <tr style=\"text-align: right;\">\n",
              "      <th></th>\n",
              "      <th>State</th>\n",
              "      <th>Account_length</th>\n",
              "      <th>Area_code</th>\n",
              "      <th>International_plan</th>\n",
              "      <th>Voice_mail_plan</th>\n",
              "      <th>Number_vmail_messages</th>\n",
              "      <th>Total_day_minutes</th>\n",
              "      <th>Total_day_calls</th>\n",
              "      <th>Total_day_charge</th>\n",
              "      <th>Total _eve_minutes</th>\n",
              "      <th>Total_eve_calls</th>\n",
              "      <th>Total_eve_charge</th>\n",
              "      <th>Total_night_minutes</th>\n",
              "      <th>Total_night_calls</th>\n",
              "      <th>Total_night_charge</th>\n",
              "      <th>Total_intl_minutes</th>\n",
              "      <th>Total_intl_calls</th>\n",
              "      <th>Total_intl_charge</th>\n",
              "      <th>Customer_service_calls</th>\n",
              "      <th>Churn</th>\n",
              "    </tr>\n",
              "  </thead>\n",
              "  <tbody>\n",
              "    <tr>\n",
              "      <th>0</th>\n",
              "      <td>17</td>\n",
              "      <td>128</td>\n",
              "      <td>415</td>\n",
              "      <td>2</td>\n",
              "      <td>1</td>\n",
              "      <td>25</td>\n",
              "      <td>265.1</td>\n",
              "      <td>110</td>\n",
              "      <td>45.07</td>\n",
              "      <td>197.4</td>\n",
              "      <td>99</td>\n",
              "      <td>16.78</td>\n",
              "      <td>244.7</td>\n",
              "      <td>91</td>\n",
              "      <td>11.01</td>\n",
              "      <td>10.0</td>\n",
              "      <td>3</td>\n",
              "      <td>2.70</td>\n",
              "      <td>1</td>\n",
              "      <td>False</td>\n",
              "    </tr>\n",
              "    <tr>\n",
              "      <th>1</th>\n",
              "      <td>36</td>\n",
              "      <td>107</td>\n",
              "      <td>415</td>\n",
              "      <td>2</td>\n",
              "      <td>1</td>\n",
              "      <td>26</td>\n",
              "      <td>161.6</td>\n",
              "      <td>123</td>\n",
              "      <td>27.47</td>\n",
              "      <td>195.5</td>\n",
              "      <td>103</td>\n",
              "      <td>16.62</td>\n",
              "      <td>254.4</td>\n",
              "      <td>103</td>\n",
              "      <td>11.45</td>\n",
              "      <td>13.7</td>\n",
              "      <td>3</td>\n",
              "      <td>3.70</td>\n",
              "      <td>1</td>\n",
              "      <td>False</td>\n",
              "    </tr>\n",
              "    <tr>\n",
              "      <th>2</th>\n",
              "      <td>32</td>\n",
              "      <td>137</td>\n",
              "      <td>415</td>\n",
              "      <td>2</td>\n",
              "      <td>2</td>\n",
              "      <td>0</td>\n",
              "      <td>243.4</td>\n",
              "      <td>114</td>\n",
              "      <td>41.38</td>\n",
              "      <td>121.2</td>\n",
              "      <td>110</td>\n",
              "      <td>10.30</td>\n",
              "      <td>162.6</td>\n",
              "      <td>104</td>\n",
              "      <td>7.32</td>\n",
              "      <td>12.2</td>\n",
              "      <td>5</td>\n",
              "      <td>3.29</td>\n",
              "      <td>0</td>\n",
              "      <td>False</td>\n",
              "    </tr>\n",
              "    <tr>\n",
              "      <th>3</th>\n",
              "      <td>36</td>\n",
              "      <td>84</td>\n",
              "      <td>408</td>\n",
              "      <td>1</td>\n",
              "      <td>2</td>\n",
              "      <td>0</td>\n",
              "      <td>299.4</td>\n",
              "      <td>71</td>\n",
              "      <td>50.90</td>\n",
              "      <td>61.9</td>\n",
              "      <td>88</td>\n",
              "      <td>5.26</td>\n",
              "      <td>196.9</td>\n",
              "      <td>89</td>\n",
              "      <td>8.86</td>\n",
              "      <td>6.6</td>\n",
              "      <td>7</td>\n",
              "      <td>1.78</td>\n",
              "      <td>2</td>\n",
              "      <td>False</td>\n",
              "    </tr>\n",
              "    <tr>\n",
              "      <th>4</th>\n",
              "      <td>37</td>\n",
              "      <td>75</td>\n",
              "      <td>415</td>\n",
              "      <td>1</td>\n",
              "      <td>2</td>\n",
              "      <td>0</td>\n",
              "      <td>166.7</td>\n",
              "      <td>113</td>\n",
              "      <td>28.34</td>\n",
              "      <td>148.3</td>\n",
              "      <td>122</td>\n",
              "      <td>12.61</td>\n",
              "      <td>186.9</td>\n",
              "      <td>121</td>\n",
              "      <td>8.41</td>\n",
              "      <td>10.1</td>\n",
              "      <td>3</td>\n",
              "      <td>2.73</td>\n",
              "      <td>3</td>\n",
              "      <td>False</td>\n",
              "    </tr>\n",
              "  </tbody>\n",
              "</table>\n",
              "</div>"
            ],
            "text/plain": [
              "   State  Account_length  ...  Customer_service_calls  Churn\n",
              "0     17             128  ...                       1  False\n",
              "1     36             107  ...                       1  False\n",
              "2     32             137  ...                       0  False\n",
              "3     36              84  ...                       2  False\n",
              "4     37              75  ...                       3  False\n",
              "\n",
              "[5 rows x 20 columns]"
            ]
          },
          "metadata": {
            "tags": []
          },
          "execution_count": 8
        }
      ]
    },
    {
      "cell_type": "code",
      "metadata": {
        "colab": {
          "base_uri": "https://localhost:8080/"
        },
        "id": "nGkFIvxeSrdC",
        "outputId": "1c8c5f7c-8834-4a47-fbda-6e6c0f01705a"
      },
      "source": [
        "# checking the distribution of Stroke Variable\n",
        "df['Churn'].value_counts()\n",
        "\n",
        "# 1 ----> may get stroke\n",
        "# 0 ----> may not get stroke\n"
      ],
      "execution_count": 10,
      "outputs": [
        {
          "output_type": "execute_result",
          "data": {
            "text/plain": [
              "False    2850\n",
              "True      483\n",
              "Name: Churn, dtype: int64"
            ]
          },
          "metadata": {
            "tags": []
          },
          "execution_count": 10
        }
      ]
    },
    {
      "cell_type": "code",
      "metadata": {
        "id": "P3APoHekSwGM"
      },
      "source": [
        "X = df.drop(columns='Churn', axis=1)\n",
        "Y = df['Churn']"
      ],
      "execution_count": 12,
      "outputs": []
    },
    {
      "cell_type": "code",
      "metadata": {
        "colab": {
          "base_uri": "https://localhost:8080/"
        },
        "id": "Ore_25wATask",
        "outputId": "0cd63287-2ed5-41ac-e52a-95ad1577cd4a"
      },
      "source": [
        "print(X)"
      ],
      "execution_count": 13,
      "outputs": [
        {
          "output_type": "stream",
          "text": [
            "      State  Account_length  ...  Total_intl_charge  Customer_service_calls\n",
            "0        17             128  ...               2.70                       1\n",
            "1        36             107  ...               3.70                       1\n",
            "2        32             137  ...               3.29                       0\n",
            "3        36              84  ...               1.78                       2\n",
            "4        37              75  ...               2.73                       3\n",
            "...     ...             ...  ...                ...                     ...\n",
            "3328     49             114  ...               3.11                       2\n",
            "3329      2             106  ...               2.19                       1\n",
            "3330     47              60  ...               3.56                       3\n",
            "3331     50             159  ...               3.13                       1\n",
            "3332      7             184  ...               1.35                       2\n",
            "\n",
            "[3333 rows x 19 columns]\n"
          ],
          "name": "stdout"
        }
      ]
    },
    {
      "cell_type": "code",
      "metadata": {
        "colab": {
          "base_uri": "https://localhost:8080/"
        },
        "id": "mZmBlJtVTbb_",
        "outputId": "c10a9f64-65a5-4796-8b8d-a1d61be82576"
      },
      "source": [
        "print(Y)"
      ],
      "execution_count": 14,
      "outputs": [
        {
          "output_type": "stream",
          "text": [
            "0       False\n",
            "1       False\n",
            "2       False\n",
            "3       False\n",
            "4       False\n",
            "        ...  \n",
            "3328    False\n",
            "3329    False\n",
            "3330    False\n",
            "3331    False\n",
            "3332    False\n",
            "Name: Churn, Length: 3333, dtype: bool\n"
          ],
          "name": "stdout"
        }
      ]
    },
    {
      "cell_type": "code",
      "metadata": {
        "id": "dovGn6FbTdjb"
      },
      "source": [
        "X_train, X_test, Y_train, Y_test = train_test_split(X, Y, test_size=0.2, stratify=Y, random_state=2)"
      ],
      "execution_count": 15,
      "outputs": []
    },
    {
      "cell_type": "code",
      "metadata": {
        "colab": {
          "base_uri": "https://localhost:8080/"
        },
        "id": "AVVGVsusTo2J",
        "outputId": "faa7b44c-c410-4d77-b4d0-e2b8dcb3ab4f"
      },
      "source": [
        "print(X.shape, X_train.shape, X_test.shape)"
      ],
      "execution_count": 16,
      "outputs": [
        {
          "output_type": "stream",
          "text": [
            "(3333, 19) (2666, 19) (667, 19)\n"
          ],
          "name": "stdout"
        }
      ]
    },
    {
      "cell_type": "code",
      "metadata": {
        "id": "UQl4gpn8Tpqt"
      },
      "source": [
        "# loading the Linear Regression model\n",
        "linear_regressor = LinearRegression()"
      ],
      "execution_count": 17,
      "outputs": []
    },
    {
      "cell_type": "code",
      "metadata": {
        "colab": {
          "base_uri": "https://localhost:8080/"
        },
        "id": "fyjvqec4Ttry",
        "outputId": "d42f7f91-63db-4cd5-ad44-9b4215f80111"
      },
      "source": [
        "linear_regressor.fit(X_train, Y_train)"
      ],
      "execution_count": 18,
      "outputs": [
        {
          "output_type": "execute_result",
          "data": {
            "text/plain": [
              "LinearRegression(copy_X=True, fit_intercept=True, n_jobs=None, normalize=False)"
            ]
          },
          "metadata": {
            "tags": []
          },
          "execution_count": 18
        }
      ]
    },
    {
      "cell_type": "code",
      "metadata": {
        "id": "J0b81zpjT1VR"
      },
      "source": [
        "# loading the Random Forest Regression model\n",
        "rdfr_regressor = RandomForestRegressor(n_estimators=100)"
      ],
      "execution_count": 19,
      "outputs": []
    },
    {
      "cell_type": "code",
      "metadata": {
        "colab": {
          "base_uri": "https://localhost:8080/"
        },
        "id": "bJEIwUGJT2Rv",
        "outputId": "10e316dd-e651-43a0-b5f3-50bf903fd76e"
      },
      "source": [
        "rdfr_regressor.fit(X_train,Y_train)"
      ],
      "execution_count": 20,
      "outputs": [
        {
          "output_type": "execute_result",
          "data": {
            "text/plain": [
              "RandomForestRegressor(bootstrap=True, ccp_alpha=0.0, criterion='mse',\n",
              "                      max_depth=None, max_features='auto', max_leaf_nodes=None,\n",
              "                      max_samples=None, min_impurity_decrease=0.0,\n",
              "                      min_impurity_split=None, min_samples_leaf=1,\n",
              "                      min_samples_split=2, min_weight_fraction_leaf=0.0,\n",
              "                      n_estimators=100, n_jobs=None, oob_score=False,\n",
              "                      random_state=None, verbose=0, warm_start=False)"
            ]
          },
          "metadata": {
            "tags": []
          },
          "execution_count": 20
        }
      ]
    },
    {
      "cell_type": "code",
      "metadata": {
        "id": "0O5zo6WsVKct"
      },
      "source": [
        "#loading the Decision Tree Classifier\n",
        "decision_tree = DecisionTreeClassifier()"
      ],
      "execution_count": 25,
      "outputs": []
    },
    {
      "cell_type": "code",
      "metadata": {
        "colab": {
          "base_uri": "https://localhost:8080/"
        },
        "id": "eitfy7CvVOnF",
        "outputId": "f811ae9a-8f6c-453d-87e2-ebc581ada070"
      },
      "source": [
        "decision_tree.fit(X_train, Y_train)"
      ],
      "execution_count": 26,
      "outputs": [
        {
          "output_type": "execute_result",
          "data": {
            "text/plain": [
              "DecisionTreeClassifier(ccp_alpha=0.0, class_weight=None, criterion='gini',\n",
              "                       max_depth=None, max_features=None, max_leaf_nodes=None,\n",
              "                       min_impurity_decrease=0.0, min_impurity_split=None,\n",
              "                       min_samples_leaf=1, min_samples_split=2,\n",
              "                       min_weight_fraction_leaf=0.0, presort='deprecated',\n",
              "                       random_state=None, splitter='best')"
            ]
          },
          "metadata": {
            "tags": []
          },
          "execution_count": 26
        }
      ]
    }
  ]
}