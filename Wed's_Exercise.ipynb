{
  "nbformat": 4,
  "nbformat_minor": 0,
  "metadata": {
    "colab": {
      "name": "Wed's Exercise.ipynb",
      "provenance": [],
      "authorship_tag": "ABX9TyPDbHg5zQn2GtVQUwO64s5R",
      "include_colab_link": true
    },
    "kernelspec": {
      "name": "python3",
      "display_name": "Python 3"
    },
    "language_info": {
      "name": "python"
    }
  },
  "cells": [
    {
      "cell_type": "markdown",
      "metadata": {
        "id": "view-in-github",
        "colab_type": "text"
      },
      "source": [
        "<a href=\"https://colab.research.google.com/github/fxlzaa/Main2/blob/main/Wed's_Exercise.ipynb\" target=\"_parent\"><img src=\"https://colab.research.google.com/assets/colab-badge.svg\" alt=\"Open In Colab\"/></a>"
      ]
    },
    {
      "cell_type": "code",
      "metadata": {
        "colab": {
          "base_uri": "https://localhost:8080/"
        },
        "id": "Z4soTjsJAA0u",
        "outputId": "20925e26-4191-43fe-c151-93de7d955d8d"
      },
      "source": [
        "list1=[1,2,'ina',7.4,90]\n",
        "print(type(list1))\n",
        "\n",
        "for x in list1:\n",
        "  print(x)\n",
        "  print(type(x))\n",
        "\n",
        "list2=[]\n",
        "print(type(list2))\n",
        "\n",
        "for y in range(5):\n",
        "  #list2[y]=5*(y+1)\n",
        "  print(y)\n",
        "  list2.append(5*(y+1))\n",
        "  print(y,list2)\n",
        "\n",
        "print(\"25\", list2[4])\n",
        "\n",
        "print(\"\\n\")\n",
        "\n",
        "#find VOWEL\n",
        "VOWEL= \"aeiouAEIOU\"\n",
        "print(\"VOWEL type =\",type(VOWEL))\n",
        "\n",
        "for char1 in list1[2]:\n",
        "  print(char1, type(char1))\n",
        "  if char1 in VOWEL:\n",
        "    print(\"ada\")\n",
        "  else:\n",
        "      print(\"x de\")\n",
        "\n",
        "print(\"\\n\")\n",
        "\n"
      ],
      "execution_count": 31,
      "outputs": [
        {
          "output_type": "stream",
          "text": [
            "<class 'list'>\n",
            "1\n",
            "<class 'int'>\n",
            "2\n",
            "<class 'int'>\n",
            "ina\n",
            "<class 'str'>\n",
            "7.4\n",
            "<class 'float'>\n",
            "90\n",
            "<class 'int'>\n",
            "<class 'list'>\n",
            "0\n",
            "0 [5]\n",
            "1\n",
            "1 [5, 10]\n",
            "2\n",
            "2 [5, 10, 15]\n",
            "3\n",
            "3 [5, 10, 15, 20]\n",
            "4\n",
            "4 [5, 10, 15, 20, 25]\n",
            "25 25\n",
            "\n",
            "\n",
            "VOWEL type = <class 'str'>\n",
            "i <class 'str'>\n",
            "ada\n",
            "n <class 'str'>\n",
            "x de\n",
            "a <class 'str'>\n",
            "ada\n",
            "\n",
            "\n"
          ],
          "name": "stdout"
        }
      ]
    }
  ]
}