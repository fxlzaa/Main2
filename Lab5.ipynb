{
  "nbformat": 4,
  "nbformat_minor": 0,
  "metadata": {
    "colab": {
      "name": "Lab5.ipynb",
      "provenance": [],
      "collapsed_sections": [],
      "authorship_tag": "ABX9TyO0IHrxL1AFcvtsnQNMmLaQ",
      "include_colab_link": true
    },
    "kernelspec": {
      "name": "python3",
      "display_name": "Python 3"
    },
    "language_info": {
      "name": "python"
    }
  },
  "cells": [
    {
      "cell_type": "markdown",
      "metadata": {
        "id": "view-in-github",
        "colab_type": "text"
      },
      "source": [
        "<a href=\"https://colab.research.google.com/github/fxlzaa/Main2/blob/main/Lab5.ipynb\" target=\"_parent\"><img src=\"https://colab.research.google.com/assets/colab-badge.svg\" alt=\"Open In Colab\"/></a>"
      ]
    },
    {
      "cell_type": "code",
      "metadata": {
        "colab": {
          "base_uri": "https://localhost:8080/"
        },
        "id": "cQXQoA4TK4hb",
        "outputId": "44ec2510-8466-45e5-f346-73e83e1324e9"
      },
      "source": [
        "#function\n",
        "def findPalin(myst):\n",
        " for word in st:\n",
        "    #if word is equal to its reverse then it is palindrome\n",
        "    if word==word[::-1]:\n",
        "       print(word) \n",
        "\n",
        "#main\n",
        "st=['shark', 'mom', 'cuttlefish', 'squid', 'level', 'anna', 'civic', 'kayak', 'mantis shrimp', 'anemone', 'madam', 'noon', 'radar', 'refer', 'wow', 'racecar', 'dad', 'red' , 'mad', 'motor']\n",
        "findPalin(st)"
      ],
      "execution_count": 1,
      "outputs": [
        {
          "output_type": "stream",
          "text": [
            "mom\n",
            "level\n",
            "anna\n",
            "civic\n",
            "kayak\n",
            "madam\n",
            "noon\n",
            "radar\n",
            "refer\n",
            "wow\n",
            "racecar\n",
            "dad\n"
          ],
          "name": "stdout"
        }
      ]
    },
    {
      "cell_type": "code",
      "metadata": {
        "colab": {
          "base_uri": "https://localhost:8080/"
        },
        "id": "LDZ9VKJB4vt6",
        "outputId": "d0b4818f-56ff-4abd-86d8-b488d6d09291"
      },
      "source": [
        "# function \n",
        "def findLowerAndUpperCase(str):\n",
        "  up = 0\n",
        "  low = 0\n",
        "  \n",
        "  for letter in str:\n",
        "    if letter.isupper():\n",
        "      up = up + 1\n",
        "    if letter.islower():\n",
        "      low = low + 1 \n",
        "    \n",
        "  return up,low\n",
        "\n",
        "# main \n",
        "list = [\"DOes hE plaY tennis?\", \"THe tRAIn leaves evERy morning\", \"WaTer freezEs at 0°C.\", \n",
        "        \"I lOVe my New petS\", \"We drinK cofFee evERy morning\", \"My Dad nEVer works oN the weeKends.\", \"Hani waNTS to be PrinCEss\"\n",
        "          ,\"every chILD likes an ICe cream.\", \"tHey don’t GO to schOOl tomorrow.\", \"My broTHer TAkes out the traSh.\"]\n",
        " \n",
        "for i in list:\n",
        "  print(\"String: \" , i)\n",
        "\n",
        "  Upp,Loww = findLowerAndUpperCase(i)\n",
        "\n",
        "  print(\"No. of Upper case characters : \", Upp)\n",
        "  print(\"No. of Lower Case characters : \" , Loww)\n",
        "  print(\"\\n\")"
      ],
      "execution_count": 42,
      "outputs": [
        {
          "output_type": "stream",
          "text": [
            "String:  DOes hE plaY tennis?\n",
            "No. of Upper case characters :  4\n",
            "No. of Lower Case characters :  12\n",
            "\n",
            "\n",
            "String:  THe tRAIn leaves evERy morning\n",
            "No. of Upper case characters :  7\n",
            "No. of Lower Case characters :  19\n",
            "\n",
            "\n",
            "String:  WaTer freezEs at 0°C.\n",
            "No. of Upper case characters :  4\n",
            "No. of Lower Case characters :  11\n",
            "\n",
            "\n",
            "String:  I lOVe my New petS\n",
            "No. of Upper case characters :  5\n",
            "No. of Lower Case characters :  9\n",
            "\n",
            "\n",
            "String:  We drinK cofFee evERy morning\n",
            "No. of Upper case characters :  5\n",
            "No. of Lower Case characters :  20\n",
            "\n",
            "\n",
            "String:  My Dad nEVer works oN the weeKends.\n",
            "No. of Upper case characters :  6\n",
            "No. of Lower Case characters :  22\n",
            "\n",
            "\n",
            "String:  Hani waNTS to be PrinCEss\n",
            "No. of Upper case characters :  7\n",
            "No. of Lower Case characters :  14\n",
            "\n",
            "\n",
            "String:  every chILD likes an ICe cream.\n",
            "No. of Upper case characters :  5\n",
            "No. of Lower Case characters :  20\n",
            "\n",
            "\n",
            "String:  tHey don’t GO to schOOl tomorrow.\n",
            "No. of Upper case characters :  5\n",
            "No. of Lower Case characters :  21\n",
            "\n",
            "\n",
            "String:  My broTHer TAkes out the traSh.\n",
            "No. of Upper case characters :  6\n",
            "No. of Lower Case characters :  19\n",
            "\n",
            "\n"
          ],
          "name": "stdout"
        }
      ]
    },
    {
      "cell_type": "code",
      "metadata": {
        "id": "UnE8nMzsTupk",
        "colab": {
          "base_uri": "https://localhost:8080/"
        },
        "outputId": "2cd88307-9bf7-4acf-f834-a852e3329e81"
      },
      "source": [
        "import random \n",
        "\n",
        "# function \n",
        "def primeNumber(num):\n",
        "  if num > 1:\n",
        "    for i in range(2, num):\n",
        "        if (num % i) == 0:\n",
        "            print(num, \"is not a prime number\")\n",
        "            break\n",
        "    else:\n",
        "        print(num, \"is a prime number\")\n",
        "\n",
        "# main \n",
        "list= []\n",
        "\n",
        "for i in range (1,21):\n",
        "  list.append(random.randint(0,99))\n",
        "\n",
        "for x in list:\n",
        "  primeNumber(x)"
      ],
      "execution_count": 40,
      "outputs": [
        {
          "output_type": "stream",
          "text": [
            "42 is not a prime number\n",
            "62 is not a prime number\n",
            "87 is not a prime number\n",
            "7 is a prime number\n",
            "60 is not a prime number\n",
            "46 is not a prime number\n",
            "92 is not a prime number\n",
            "85 is not a prime number\n",
            "49 is not a prime number\n",
            "12 is not a prime number\n",
            "11 is a prime number\n",
            "97 is a prime number\n",
            "60 is not a prime number\n",
            "66 is not a prime number\n",
            "23 is a prime number\n",
            "40 is not a prime number\n",
            "30 is not a prime number\n",
            "72 is not a prime number\n",
            "19 is a prime number\n",
            "2 is a prime number\n"
          ],
          "name": "stdout"
        }
      ]
    },
    {
      "cell_type": "code",
      "metadata": {
        "id": "6PGXaSK4VXo-",
        "colab": {
          "base_uri": "https://localhost:8080/"
        },
        "outputId": "10670d55-c3e2-418e-8d7f-c3f7cc7c7814"
      },
      "source": [
        "import re\n",
        "text = 'The quick brown fox jumps over the lazy dog.'\n",
        "print(re.findall(r\"\\b\\w{5}\\b\", text))\n"
      ],
      "execution_count": null,
      "outputs": [
        {
          "output_type": "stream",
          "text": [
            "['quick', 'brown', 'jumps']\n"
          ],
          "name": "stdout"
        }
      ]
    },
    {
      "cell_type": "code",
      "metadata": {
        "colab": {
          "base_uri": "https://localhost:8080/"
        },
        "id": "HCmWaW3HVYfA",
        "outputId": "527d6b81-5ba9-4194-a620-8c563971875a"
      },
      "source": [
        "import re\n",
        "text = \"Microsoft Corp. today announced its “Bersama Malaysia” (Together with Malaysia) initiative, which marks a significant commitment to empowering Malaysia’s inclusive digital economy and advancing the nation’s digital transformation across the private and public sectors. As part of the plan, Microsoft will establish its first datacenter region in the country to deliver trusted cloud services locally, with world-class data security, privacy, and the ability to store data in-country. Microsoft also announced plans to skill an additional 1 million Malaysians by end of 2023 to help create economic opportunities for people and businesses in the digital era.\"\n",
        "\n",
        "ae = re.findall(r'\\b[ae]\\w+', text)\n",
        "three = re.findall(r\"\\b\\w{3}\\b\", text)\n",
        "four = re.findall(r\"\\b\\w{4}\\b\", text)\n",
        "five = re.findall(r\"\\b\\w{5}\\b\", text)\n",
        "\n",
        "# Print result.\n",
        "print(\"All words starting with 'a' or 'e' in a given string :\",ae)\n",
        "print(\"The three characters long words in a string :\",three)\n",
        "print(\"The four characters long words in a string :\",four)\n",
        "print(\"The five characters long words in a string :\",five)\n"
      ],
      "execution_count": 41,
      "outputs": [
        {
          "output_type": "stream",
          "text": [
            "All words starting with 'a' or 'e' in a given string : ['announced', 'empowering', 'economy', 'and', 'advancing', 'across', 'and', 'establish', 'and', 'ability', 'also', 'announced', 'an', 'additional', 'end', 'economic', 'and', 'era']\n",
            "The three characters long words in a string : ['its', 'and', 'the', 'the', 'and', 'the', 'its', 'the', 'and', 'the', 'end', 'for', 'and', 'the', 'era']\n",
            "The four characters long words in a string : ['Corp', 'with', 'part', 'plan', 'will', 'with', 'data', 'data', 'also', '2023', 'help']\n",
            "The five characters long words in a string : ['today', 'which', 'marks', 'first', 'cloud', 'world', 'class', 'store', 'plans', 'skill']\n"
          ],
          "name": "stdout"
        }
      ]
    }
  ]
}