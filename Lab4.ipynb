{
  "nbformat": 4,
  "nbformat_minor": 0,
  "metadata": {
    "colab": {
      "name": "Lab4.ipynb",
      "provenance": [],
      "collapsed_sections": [],
      "authorship_tag": "ABX9TyO3mCCWJoN09jDye9QJ9wBS",
      "include_colab_link": true
    },
    "kernelspec": {
      "name": "python3",
      "display_name": "Python 3"
    },
    "language_info": {
      "name": "python"
    }
  },
  "cells": [
    {
      "cell_type": "markdown",
      "metadata": {
        "id": "view-in-github",
        "colab_type": "text"
      },
      "source": [
        "<a href=\"https://colab.research.google.com/github/fxlzaa/Main2/blob/main/Lab4.ipynb\" target=\"_parent\"><img src=\"https://colab.research.google.com/assets/colab-badge.svg\" alt=\"Open In Colab\"/></a>"
      ]
    },
    {
      "cell_type": "code",
      "metadata": {
        "colab": {
          "base_uri": "https://localhost:8080/"
        },
        "id": "GwMVobjVKqNV",
        "outputId": "100d5d24-780e-4fad-e35d-87218e04d03a"
      },
      "source": [
        "def primenum(within=2):\n",
        " primenumber = []\n",
        "\n",
        " for i in range(2, within + 1):\n",
        "   if i > 1:\n",
        "       for j in range(2, i):\n",
        "           if (i % j) == 0:\n",
        "               break\n",
        "       else:\n",
        "           #print(i, end =\", \")           \n",
        "           primenumber.append(i)\n",
        "\n",
        " return primenumber\n",
        "\n",
        "#main\n",
        "print(primenum(10))\n",
        "print(primenum())\n",
        "print(primenum(15))"
      ],
      "execution_count": null,
      "outputs": [
        {
          "output_type": "stream",
          "text": [
            "[2, 3, 5, 7]\n",
            "[2]\n",
            "[2, 3, 5, 7, 11, 13]\n"
          ],
          "name": "stdout"
        }
      ]
    },
    {
      "cell_type": "code",
      "metadata": {
        "id": "rHd7KbWlLh9V",
        "colab": {
          "base_uri": "https://localhost:8080/",
          "height": 129
        },
        "outputId": "1bd957c9-2b5f-43c7-9f61-d25de2281d0b"
      },
      "source": [
        "def functiony(**name = \"nobody\"):\n",
        "  print(\"My friend(s):\" + name)\n",
        "\n",
        "print(functiony(\"azlina\"))\n",
        "print(functiony(\"Syafiq\", \"asyraf\"))\n",
        "print(functiony(\"xa\",\"ya\",\"za\"))\n",
        "print(functiony())"
      ],
      "execution_count": null,
      "outputs": [
        {
          "output_type": "error",
          "ename": "SyntaxError",
          "evalue": "ignored",
          "traceback": [
            "\u001b[0;36m  File \u001b[0;32m\"<ipython-input-18-40af914d163e>\"\u001b[0;36m, line \u001b[0;32m1\u001b[0m\n\u001b[0;31m    def functiony(**name = \"nobody\"):\u001b[0m\n\u001b[0m                         ^\u001b[0m\n\u001b[0;31mSyntaxError\u001b[0m\u001b[0;31m:\u001b[0m invalid syntax\n"
          ]
        }
      ]
    },
    {
      "cell_type": "code",
      "metadata": {
        "colab": {
          "base_uri": "https://localhost:8080/"
        },
        "id": "NFgVZdysNVin",
        "outputId": "4f3b4c5c-c8f7-48c6-c369-93285ff72414"
      },
      "source": [
        "chars = 'abcdefghijklmnopqrstuvwxyz'\n",
        "string ='thequickbrownfoxjumpsoverthelazydog'\n",
        "\n",
        "# function \n",
        "def countChar (text):\n",
        "  for i in chars:\n",
        "    c = text.count(i)\n",
        "    if c > 1:\n",
        "      print(i,c)\n",
        "\n",
        "countChar(string)"
      ],
      "execution_count": null,
      "outputs": [
        {
          "output_type": "stream",
          "text": [
            "e 3\n",
            "h 2\n",
            "o 4\n",
            "r 2\n",
            "t 2\n",
            "u 2\n"
          ],
          "name": "stdout"
        }
      ]
    }
  ]
}