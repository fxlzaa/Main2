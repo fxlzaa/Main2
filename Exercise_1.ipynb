{
  "nbformat": 4,
  "nbformat_minor": 0,
  "metadata": {
    "colab": {
      "name": "Exercise 1.ipynb",
      "provenance": [],
      "authorship_tag": "ABX9TyMALN07wSJ31isgu9xVGU2I",
      "include_colab_link": true
    },
    "kernelspec": {
      "name": "python3",
      "display_name": "Python 3"
    },
    "language_info": {
      "name": "python"
    }
  },
  "cells": [
    {
      "cell_type": "markdown",
      "metadata": {
        "id": "view-in-github",
        "colab_type": "text"
      },
      "source": [
        "<a href=\"https://colab.research.google.com/github/fxlzaa/Main2/blob/main/Exercise_1.ipynb\" target=\"_parent\"><img src=\"https://colab.research.google.com/assets/colab-badge.svg\" alt=\"Open In Colab\"/></a>"
      ]
    },
    {
      "cell_type": "code",
      "metadata": {
        "colab": {
          "base_uri": "https://localhost:8080/"
        },
        "id": "MIjB3V9xk5qs",
        "outputId": "335990b6-82cf-4865-f3e5-2a9dab934fd5"
      },
      "source": [
        "import random\n",
        "\n",
        "list1 = []\n",
        "list2 = []\n",
        "list3 = []\n",
        "\n",
        "def update(myList) : \n",
        "  for x in range(1,11):\t\n",
        "    myList.append(random.randrange(1,11))\n",
        "  return myList\n",
        "\n",
        "def sumList(myList) : \n",
        "  return sum(myList)\n",
        "\n",
        "def avgN(sumV , myList) :\n",
        "  avr = sumV / len(myList)\n",
        "  return avr\n",
        "\n",
        "def maxiList(myList) :\n",
        "  return max(myList)\n",
        "\n",
        "def minList(myList) :\n",
        "  return min(myList)\n",
        "\n",
        "print(\"List 1\")\n",
        "update(list1)\n",
        "print(\"The list of random number are:\",list1)\n",
        "total = sumList(list1)\n",
        "print(\"The total sum of random number is:\",total)\n",
        "avg = avgN(total,list1)\n",
        "print(\"The average of random number is:\",avg)\n",
        "maxL = maxiList(list1)\n",
        "print(\"The maximum number is:\", maxL)\n",
        "minL = minList(list1)\n",
        "print(\"The minimum number is:\",minL)\n",
        "\n",
        "print('\\n')\n",
        "\n",
        "print(\"List 2\")\n",
        "update(list2)\n",
        "print(\"The list of random number are:\",list2)\n",
        "total = sumList(list2)\n",
        "print(\"The total sum of random number is:\",total)\n",
        "avg = avgN(total,list2)\n",
        "print(\"The average of random number is:\",avg)\n",
        "maxL = maxiList(list2)\n",
        "print(\"The maximum number is:\", maxL)\n",
        "minL = minList(list2)\n",
        "print(\"The minimum number is:\",minL)\n",
        "\n",
        "print('\\n')\n",
        "\n",
        "print(\"List 3\")\n",
        "update(list3)\n",
        "print(\"The list of random number are:\",list3)\n",
        "total = sumList(list3)\n",
        "print(\"The total sum of random number is:\",total)\n",
        "avg = avgN(total,list3)\n",
        "print(\"The average of random number is:\",avg)\n",
        "maxL = maxiList(list3)\n",
        "print(\"The maximum number is:\", maxL)\n",
        "minL = minList(list3)\n",
        "print(\"The minimum number is:\",minL)\n",
        "\n",
        "\n",
        "#print('total sum of random number : ' , s)\n",
        "\n",
        "#avr = s / len(number)\n",
        "#print ('average of random number : ' , avr)\n",
        "\n",
        "#ma = max(number)\n",
        "#print('max number : ' , ma)\n",
        "\n",
        "#mi = min(number)\n",
        "#print('min number : ' , mi)"
      ],
      "execution_count": 15,
      "outputs": [
        {
          "output_type": "stream",
          "text": [
            "List 1\n",
            "The list of random number are: [1, 1, 3, 3, 2, 7, 8, 3, 5, 9]\n",
            "The total sum of random number is: 42\n",
            "The average of random number is: 4.2\n",
            "The maximum number is: 9\n",
            "The minimum number is: 1\n",
            "\n",
            "\n",
            "List 2\n",
            "The list of random number are: [5, 3, 3, 2, 1, 9, 6, 1, 4, 8]\n",
            "The total sum of random number is: 42\n",
            "The average of random number is: 4.2\n",
            "The maximum number is: 9\n",
            "The minimum number is: 1\n",
            "\n",
            "\n",
            "List 3\n",
            "The list of random number are: [1, 3, 4, 8, 1, 9, 2, 9, 4, 4]\n",
            "The total sum of random number is: 45\n",
            "The average of random number is: 4.5\n",
            "The maximum number is: 9\n",
            "The minimum number is: 1\n"
          ],
          "name": "stdout"
        }
      ]
    }
  ]
}