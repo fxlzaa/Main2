{
  "nbformat": 4,
  "nbformat_minor": 0,
  "metadata": {
    "colab": {
      "name": "Exercise 1.ipynb",
      "provenance": [],
      "authorship_tag": "ABX9TyO23TwVAzD3SafVFn0XkhRH",
      "include_colab_link": true
    },
    "kernelspec": {
      "name": "python3",
      "display_name": "Python 3"
    },
    "language_info": {
      "name": "python"
    }
  },
  "cells": [
    {
      "cell_type": "markdown",
      "metadata": {
        "id": "view-in-github",
        "colab_type": "text"
      },
      "source": [
        "<a href=\"https://colab.research.google.com/github/fxlzaa/Main2/blob/main/Exercise_1.ipynb\" target=\"_parent\"><img src=\"https://colab.research.google.com/assets/colab-badge.svg\" alt=\"Open In Colab\"/></a>"
      ]
    },
    {
      "cell_type": "code",
      "metadata": {
        "colab": {
          "base_uri": "https://localhost:8080/"
        },
        "id": "MIjB3V9xk5qs",
        "outputId": "b8d886ea-67dd-4c09-b9d8-0accf31e4e7c"
      },
      "source": [
        "import random\n",
        "\n",
        "number = []\n",
        "list1 = []\n",
        "\n",
        "def update(myList) : \n",
        "  for x in range(1,11):\t\n",
        "    myList.append(random.randrange(1,11))\n",
        "  return myList\n",
        "\n",
        "def sumList(myList) : \n",
        "  return sum(myList)\n",
        "\n",
        "def avgN(sumV , myList) :\n",
        "  avr = sumV / len(myList)\n",
        "  return avr\n",
        "\n",
        "def maxiList(myList) :\n",
        "  return max(myList)\n",
        "\n",
        "def minList(myList) :\n",
        "  return min(myList)\n",
        "\n",
        "update(list1)\n",
        "print(\"The list of random number are:\",list1)\n",
        "total = sumList(list1)\n",
        "print(\"The total sum of random number is:\",total)\n",
        "avg = avgN(total,list1)\n",
        "print(\"The average of random number is:\",avg)\n",
        "maxL = maxiList(list1)\n",
        "print(\"The maximum number is:\", maxL)\n",
        "minL = minList(list1)\n",
        "print(\"The minimum number is:\",minL)\n",
        "\n",
        "\n",
        "\n",
        "\n",
        "#print('total sum of random number : ' , s)\n",
        "\n",
        "#avr = s / len(number)\n",
        "#print ('average of random number : ' , avr)\n",
        "\n",
        "#ma = max(number)\n",
        "#print('max number : ' , ma)\n",
        "\n",
        "#mi = min(number)\n",
        "#print('min number : ' , mi)"
      ],
      "execution_count": 10,
      "outputs": [
        {
          "output_type": "stream",
          "text": [
            "The list of random number are: [8, 9, 7, 10, 9, 9, 3, 10, 3, 7]\n",
            "The total sum of random number is: 75\n",
            "The average of random number is: 7.5\n",
            "The maximum number is: 10\n",
            "The minimum number is: 3\n"
          ],
          "name": "stdout"
        }
      ]
    }
  ]
}