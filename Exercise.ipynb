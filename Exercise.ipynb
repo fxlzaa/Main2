{
  "nbformat": 4,
  "nbformat_minor": 0,
  "metadata": {
    "colab": {
      "name": "Exercise.ipynb",
      "provenance": [],
      "authorship_tag": "ABX9TyPBdl9OxQ6L/+eQEzoCxuQK",
      "include_colab_link": true
    },
    "kernelspec": {
      "name": "python3",
      "display_name": "Python 3"
    },
    "language_info": {
      "name": "python"
    }
  },
  "cells": [
    {
      "cell_type": "markdown",
      "metadata": {
        "id": "view-in-github",
        "colab_type": "text"
      },
      "source": [
        "<a href=\"https://colab.research.google.com/github/fxlzaa/Main2/blob/main/Exercise.ipynb\" target=\"_parent\"><img src=\"https://colab.research.google.com/assets/colab-badge.svg\" alt=\"Open In Colab\"/></a>"
      ]
    },
    {
      "cell_type": "code",
      "metadata": {
        "colab": {
          "base_uri": "https://localhost:8080/"
        },
        "id": "6YF_A8RqN3xb",
        "outputId": "05c25d08-9d3e-4bf3-f1cf-bea028ae2ca2"
      },
      "source": [
        "'''\n",
        "print(\"Question 1\")\n",
        "print(\"-----------------------------------------------------------\")\n",
        "num = 75869\n",
        "print(\"length= \",len(str(num)))\n",
        "print(num, type(num))\n",
        "\n",
        "num1=str(num)\n",
        "print(num1,type(num1))\n",
        "\n",
        "listnum=[]\n",
        "for y in range(len(num1)):\n",
        "  print(y)\n",
        "  print(num1[y],type(num1[y]))\n",
        "  listnum.append(num1[y])\n",
        "\n",
        "print (listnum)\n",
        "\n",
        "total=0\n",
        "for k in listnum:\n",
        "  total= total + int(k)\n",
        "  \n",
        "print(total)\n",
        "'''\n",
        "\n",
        "print(\"\\n\")\n",
        "print(\"Question 2\")\n",
        "print(\"-----------------------------------------------------------\")\n",
        "\n",
        "\n",
        "str1='pynative'\n",
        "\n",
        "for index in range(len(str1)):\n",
        "  #print (index)\n",
        "  modval=index%2\n",
        "  #print(modval)\n",
        "\n",
        "  if modval==0:\n",
        "     print(\"even\",index)\n",
        "     print(str1[index])\n"
      ],
      "execution_count": 33,
      "outputs": [
        {
          "output_type": "stream",
          "text": [
            "\n",
            "\n",
            "Question 2\n",
            "-----------------------------------------------------------\n",
            "even 0\n",
            "p\n",
            "even 2\n",
            "n\n",
            "even 4\n",
            "t\n",
            "even 6\n",
            "v\n"
          ],
          "name": "stdout"
        }
      ]
    }
  ]
}